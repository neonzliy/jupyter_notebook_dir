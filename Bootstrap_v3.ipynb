{
 "cells": [
  {
   "cell_type": "code",
   "execution_count": 4,
   "metadata": {},
   "outputs": [],
   "source": [
    "import numpy as np\n",
    "import pandas as pd\n",
    "import scipy.stats as stats\n",
    "import matplotlib.pyplot as plt"
   ]
  },
  {
   "cell_type": "code",
   "execution_count": 2,
   "metadata": {
    "collapsed": true
   },
   "outputs": [],
   "source": [
    "# import findspark\n",
    "# findspark.init()"
   ]
  },
  {
   "cell_type": "code",
   "execution_count": 3,
   "metadata": {
    "collapsed": true,
    "scrolled": true
   },
   "outputs": [],
   "source": [
    "# import pyspark\n",
    "# from pyspark.sql import functions"
   ]
  },
  {
   "cell_type": "code",
   "execution_count": 4,
   "metadata": {},
   "outputs": [],
   "source": [
    "# sc = pyspark.SparkContext(appName=\"bootstrap\")"
   ]
  },
  {
   "cell_type": "code",
   "execution_count": 5,
   "metadata": {},
   "outputs": [],
   "source": [
    "# sqlCtx = pyspark.SQLContext(sc)"
   ]
  },
  {
   "cell_type": "code",
   "execution_count": 5,
   "metadata": {},
   "outputs": [],
   "source": [
    "# @user credentials\n",
    "\n",
    "user='leon.zhao@offerupnow.com'\n",
    "password='Steel24ly@offerup'\n",
    "account='offerup'"
   ]
  },
  {
   "cell_type": "code",
   "execution_count": 6,
   "metadata": {},
   "outputs": [
    {
     "name": "stdout",
     "output_type": "stream",
     "text": [
      "> Connecting to Snowflake\n"
     ]
    }
   ],
   "source": [
    "import snowflake.connector\n",
    "\n",
    "class SnowflakeSession:\n",
    "\n",
    "    def __init__(self, user, password, account):\n",
    "\n",
    "        # Connect and get cursor\n",
    "        print(\"> Connecting to Snowflake\")\n",
    "        self.ctx = snowflake.connector.connect(user=user,\n",
    "                                                password=password,\n",
    "                                                account=account, )\n",
    "        self.cs = self.ctx.cursor()\n",
    "\n",
    "        # Set up cursor\n",
    "        self.cs.execute(\"use warehouse analytics_wh;\")\n",
    "        self.cs.execute(\"use role marketing;\")\n",
    "        self.cs.execute(\"Alter session set timezone = 'America/Los_Angeles';\") # for TZ aware fields\n",
    "\n",
    "    @staticmethod\n",
    "    def parse_query_file(sql_query_file):\n",
    "        \"\"\"Parse SQL file and return query as string.\"\"\"\n",
    "        \n",
    "        # Reading of the SQL statement from sql_query.txt file\n",
    "        print(\"> Reading SQL statement from file\")\n",
    "        fd = open(sql_query_file, 'r')\n",
    "        sqlFile = fd.read()\n",
    "        fd.close()\n",
    "\n",
    "        # Extraction of the SQL statement (split on ';')\n",
    "        # Get only the first statement.\n",
    "        sql_sentence_list = sqlFile.split(';')\n",
    "        sql_query = [x for x in sql_sentence_list if x][0]\n",
    "\n",
    "        return sql_query\n",
    "\n",
    "    def execute_query(self, qry):\n",
    "        print(\"> Querying database with:\")\n",
    "        print(qry)\n",
    "        print(\"\\n> Fetching data ...\")\n",
    "        self.cs.execute(qry)\n",
    "        colnames = [x[0] for x in self.cs.description]\n",
    "        rows = self.cs.fetchall()\n",
    "        return rows, colnames\n",
    "\n",
    "    @staticmethod\n",
    "    def result_to_df(rows, colnames):\n",
    "        print(\"> Saving to dataframe ...\")\n",
    "        df =  pd.DataFrame(rows, columns=colnames)\n",
    "        df.replace({r'\\r': ''}, regex=True, inplace=True)\n",
    "        return df\n",
    "\n",
    "\n",
    "    @staticmethod\n",
    "    def save_df_to_csv(df, fname):\n",
    "        print(\"\\n> Saving to file ...\")\n",
    "        if '.csv' in fname:\n",
    "            separator = ','\n",
    "        else:\n",
    "            separator = '\\t'\n",
    "        df.to_csv(fname, index=False, sep=separator, header=True, encoding='utf-8')\n",
    "\n",
    "    def close_session(self):\n",
    "        print(\"\\n> Closing session ...\")\n",
    "        self.cs.close()\n",
    "        self.ctx.close()\n",
    "        \n",
    "s = SnowflakeSession(user, password, account)"
   ]
  },
  {
   "cell_type": "markdown",
   "metadata": {},
   "source": [
    "# Adjust Dataset for bootstrap"
   ]
  },
  {
   "cell_type": "code",
   "execution_count": 7,
   "metadata": {},
   "outputs": [
    {
     "name": "stdout",
     "output_type": "stream",
     "text": [
      "> Reading SQL statement from file\n",
      "select *\n",
      "from ou_users.leon.sa_simplification_summary\n",
      "\n",
      "> Querying database with:\n",
      "select *\n",
      "from ou_users.leon.sa_simplification_summary\n",
      "\n",
      "\n",
      "> Fetching data ...\n"
     ]
    }
   ],
   "source": [
    "data = s.parse_query_file('/Users/leon.zhao/Desktop/SQL/simplification_test_summary')\n",
    "# data = s.parse_query_file('/Users/leon.zhao/Desktop/SQL/simplification_test_summary_no_outliers')\n",
    "print(data)\n",
    "rows, colnames = s.execute_query(data)"
   ]
  },
  {
   "cell_type": "code",
   "execution_count": 8,
   "metadata": {},
   "outputs": [
    {
     "data": {
      "text/html": [
       "<div>\n",
       "<style scoped>\n",
       "    .dataframe tbody tr th:only-of-type {\n",
       "        vertical-align: middle;\n",
       "    }\n",
       "\n",
       "    .dataframe tbody tr th {\n",
       "        vertical-align: top;\n",
       "    }\n",
       "\n",
       "    .dataframe thead th {\n",
       "        text-align: right;\n",
       "    }\n",
       "</style>\n",
       "<table border=\"1\" class=\"dataframe\">\n",
       "  <thead>\n",
       "    <tr style=\"text-align: right;\">\n",
       "      <th></th>\n",
       "      <th>PLAT</th>\n",
       "      <th>USER_ID</th>\n",
       "      <th>VARIANT_ID</th>\n",
       "      <th>FIRST_EXPOSURE_TS</th>\n",
       "      <th>VARIANT_NAME</th>\n",
       "      <th>BUMP_REVENUE</th>\n",
       "      <th>PROMOTION_REVENUE</th>\n",
       "      <th>SUB_REVENUE</th>\n",
       "      <th>BUMPS</th>\n",
       "      <th>ITEM_PROMOTIONS</th>\n",
       "      <th>SUB_PURCHASES</th>\n",
       "      <th>SA_1D_REVENUE</th>\n",
       "      <th>SA_3D_REVENUE</th>\n",
       "      <th>SA_7D_REVENUE</th>\n",
       "      <th>SA_14D_REVENUE</th>\n",
       "      <th>PRICE_1DAY_PURCHASES</th>\n",
       "      <th>PRICE_3DAY_PURCHASES</th>\n",
       "      <th>PRICE_7DAY_PURCHASES</th>\n",
       "      <th>PRICE_14DAY_PURCHASES</th>\n",
       "    </tr>\n",
       "  </thead>\n",
       "  <tbody>\n",
       "    <tr>\n",
       "      <th>0</th>\n",
       "      <td>AD</td>\n",
       "      <td>10729217</td>\n",
       "      <td>\"5123000743493632\"</td>\n",
       "      <td>2019-03-11 04:16:35</td>\n",
       "      <td>Subs_1d_3d</td>\n",
       "      <td>0.0</td>\n",
       "      <td>0.00</td>\n",
       "      <td>0.0</td>\n",
       "      <td>0</td>\n",
       "      <td>0</td>\n",
       "      <td>0</td>\n",
       "      <td>0.00</td>\n",
       "      <td>0.0</td>\n",
       "      <td>0.0</td>\n",
       "      <td>0.0</td>\n",
       "      <td>0</td>\n",
       "      <td>0</td>\n",
       "      <td>0</td>\n",
       "      <td>0</td>\n",
       "    </tr>\n",
       "    <tr>\n",
       "      <th>1</th>\n",
       "      <td>AD</td>\n",
       "      <td>17608841</td>\n",
       "      <td>\"5123000743493632\"</td>\n",
       "      <td>2019-02-11 03:23:04</td>\n",
       "      <td>Subs_1d_3d</td>\n",
       "      <td>0.0</td>\n",
       "      <td>11.96</td>\n",
       "      <td>0.0</td>\n",
       "      <td>0</td>\n",
       "      <td>4</td>\n",
       "      <td>0</td>\n",
       "      <td>11.96</td>\n",
       "      <td>0.0</td>\n",
       "      <td>0.0</td>\n",
       "      <td>0.0</td>\n",
       "      <td>4</td>\n",
       "      <td>0</td>\n",
       "      <td>0</td>\n",
       "      <td>0</td>\n",
       "    </tr>\n",
       "    <tr>\n",
       "      <th>2</th>\n",
       "      <td>AD</td>\n",
       "      <td>39547752</td>\n",
       "      <td>\"5123000743493632\"</td>\n",
       "      <td>2019-03-09 12:36:46</td>\n",
       "      <td>Subs_1d_3d</td>\n",
       "      <td>0.0</td>\n",
       "      <td>0.00</td>\n",
       "      <td>0.0</td>\n",
       "      <td>0</td>\n",
       "      <td>0</td>\n",
       "      <td>0</td>\n",
       "      <td>0.00</td>\n",
       "      <td>0.0</td>\n",
       "      <td>0.0</td>\n",
       "      <td>0.0</td>\n",
       "      <td>0</td>\n",
       "      <td>0</td>\n",
       "      <td>0</td>\n",
       "      <td>0</td>\n",
       "    </tr>\n",
       "    <tr>\n",
       "      <th>3</th>\n",
       "      <td>AD</td>\n",
       "      <td>56563145</td>\n",
       "      <td>\"5123000743493632\"</td>\n",
       "      <td>2019-03-09 18:20:26</td>\n",
       "      <td>Subs_1d_3d</td>\n",
       "      <td>0.0</td>\n",
       "      <td>0.00</td>\n",
       "      <td>0.0</td>\n",
       "      <td>0</td>\n",
       "      <td>0</td>\n",
       "      <td>0</td>\n",
       "      <td>0.00</td>\n",
       "      <td>0.0</td>\n",
       "      <td>0.0</td>\n",
       "      <td>0.0</td>\n",
       "      <td>0</td>\n",
       "      <td>0</td>\n",
       "      <td>0</td>\n",
       "      <td>0</td>\n",
       "    </tr>\n",
       "    <tr>\n",
       "      <th>4</th>\n",
       "      <td>AD</td>\n",
       "      <td>38966538</td>\n",
       "      <td>\"5123000743493632\"</td>\n",
       "      <td>2019-02-26 23:55:47</td>\n",
       "      <td>Subs_1d_3d</td>\n",
       "      <td>0.0</td>\n",
       "      <td>0.00</td>\n",
       "      <td>0.0</td>\n",
       "      <td>0</td>\n",
       "      <td>0</td>\n",
       "      <td>0</td>\n",
       "      <td>0.00</td>\n",
       "      <td>0.0</td>\n",
       "      <td>0.0</td>\n",
       "      <td>0.0</td>\n",
       "      <td>0</td>\n",
       "      <td>0</td>\n",
       "      <td>0</td>\n",
       "      <td>0</td>\n",
       "    </tr>\n",
       "  </tbody>\n",
       "</table>\n",
       "</div>"
      ],
      "text/plain": [
       "  PLAT   USER_ID          VARIANT_ID   FIRST_EXPOSURE_TS VARIANT_NAME  \\\n",
       "0   AD  10729217  \"5123000743493632\" 2019-03-11 04:16:35   Subs_1d_3d   \n",
       "1   AD  17608841  \"5123000743493632\" 2019-02-11 03:23:04   Subs_1d_3d   \n",
       "2   AD  39547752  \"5123000743493632\" 2019-03-09 12:36:46   Subs_1d_3d   \n",
       "3   AD  56563145  \"5123000743493632\" 2019-03-09 18:20:26   Subs_1d_3d   \n",
       "4   AD  38966538  \"5123000743493632\" 2019-02-26 23:55:47   Subs_1d_3d   \n",
       "\n",
       "   BUMP_REVENUE  PROMOTION_REVENUE  SUB_REVENUE  BUMPS  ITEM_PROMOTIONS  \\\n",
       "0           0.0               0.00          0.0      0                0   \n",
       "1           0.0              11.96          0.0      0                4   \n",
       "2           0.0               0.00          0.0      0                0   \n",
       "3           0.0               0.00          0.0      0                0   \n",
       "4           0.0               0.00          0.0      0                0   \n",
       "\n",
       "   SUB_PURCHASES  SA_1D_REVENUE  SA_3D_REVENUE  SA_7D_REVENUE  SA_14D_REVENUE  \\\n",
       "0              0           0.00            0.0            0.0             0.0   \n",
       "1              0          11.96            0.0            0.0             0.0   \n",
       "2              0           0.00            0.0            0.0             0.0   \n",
       "3              0           0.00            0.0            0.0             0.0   \n",
       "4              0           0.00            0.0            0.0             0.0   \n",
       "\n",
       "   PRICE_1DAY_PURCHASES  PRICE_3DAY_PURCHASES  PRICE_7DAY_PURCHASES  \\\n",
       "0                     0                     0                     0   \n",
       "1                     4                     0                     0   \n",
       "2                     0                     0                     0   \n",
       "3                     0                     0                     0   \n",
       "4                     0                     0                     0   \n",
       "\n",
       "   PRICE_14DAY_PURCHASES  \n",
       "0                      0  \n",
       "1                      0  \n",
       "2                      0  \n",
       "3                      0  \n",
       "4                      0  "
      ]
     },
     "execution_count": 8,
     "metadata": {},
     "output_type": "execute_result"
    }
   ],
   "source": [
    "df = pd.DataFrame(data = rows, columns = colnames)\n",
    "df.head()"
   ]
  },
  {
   "cell_type": "code",
   "execution_count": 6,
   "metadata": {},
   "outputs": [],
   "source": [
    "platform = {}\n",
    "rev_output = {}\n",
    "for plat in ['AD','iOS']:\n",
    "    df1 = df.loc[df['PLAT'] == plat]\n",
    "    platform[plat] = df1\n",
    "    rev_output[plat + '_rev'] = platform[plat].loc[:,['PLAT','VARIANT_NAME','BUMP_REVENUE','PROMOTION_REVENUE','SUB_REVENUE'] ]\n",
    "    rev_output[plat + '_rev']['IAP_REVENUE'] = rev_output[plat + '_rev'].iloc[:,1:].sum(axis=1)\n",
    "    rev_output[plat + '_rev_no_zeros'] = rev_output[plat + '_rev'][rev_output[plat + '_rev'].IAP_REVENUE != 0.0]\n"
   ]
  },
  {
   "cell_type": "code",
   "execution_count": 7,
   "metadata": {},
   "outputs": [],
   "source": [
    "df_names = []\n",
    "for key, value in rev_output.items() :\n",
    "    df_names.append(key)\n",
    "    \n",
    "# df_names_no_zeros = ['AD_rev_no_zeros', 'iOS_rev_no_zeros']\n",
    "# df_names, df_names_no_zeros"
   ]
  },
  {
   "cell_type": "code",
   "execution_count": 8,
   "metadata": {},
   "outputs": [
    {
     "name": "stdout",
     "output_type": "stream",
     "text": [
      "AD_rev_Control\n",
      "       BUMP_REVENUE  PROMOTION_REVENUE   SUB_REVENUE   IAP_REVENUE\n",
      "count  96812.000000       96812.000000  96812.000000  96812.000000\n",
      "mean       0.166257           0.316903      0.235803      0.718964\n",
      "std        1.993254           4.307652      2.158275      5.450383\n",
      "min        0.000000           0.000000      0.000000      0.000000\n",
      "25%        0.000000           0.000000      0.000000      0.000000\n",
      "50%        0.000000           0.000000      0.000000      0.000000\n",
      "75%        0.000000           0.000000      0.000000      0.000000\n",
      "max      203.490000         579.710000     19.990000    579.710000\n",
      "AD_rev_Subs_1d_3d\n",
      "       BUMP_REVENUE  PROMOTION_REVENUE   SUB_REVENUE   IAP_REVENUE\n",
      "count  96864.000000       96864.000000  96864.000000  96864.000000\n",
      "mean       0.007338           0.372539      0.264156      0.644032\n",
      "std        0.493311           4.612793      2.282707      5.339167\n",
      "min        0.000000           0.000000      0.000000      0.000000\n",
      "25%        0.000000           0.000000      0.000000      0.000000\n",
      "50%        0.000000           0.000000      0.000000      0.000000\n",
      "75%        0.000000           0.000000      0.000000      0.000000\n",
      "max       99.500000         845.970000     19.990000    845.970000\n",
      "AD_rev_Subs_bump_3d\n",
      "       BUMP_REVENUE  PROMOTION_REVENUE   SUB_REVENUE   IAP_REVENUE\n",
      "count  96735.000000       96735.000000  96735.000000  96735.000000\n",
      "mean       0.221340           0.256746      0.243430      0.721516\n",
      "std       10.904656           4.029837      2.192478     12.052437\n",
      "min        0.000000           0.000000      0.000000      0.000000\n",
      "25%        0.000000           0.000000      0.000000      0.000000\n",
      "50%        0.000000           0.000000      0.000000      0.000000\n",
      "75%        0.000000           0.000000      0.000000      0.000000\n",
      "max     3209.930000         543.320000     19.990000   3229.920000\n",
      "AD_rev_Subs_1d_3d_7d_14d\n",
      "       BUMP_REVENUE  PROMOTION_REVENUE   SUB_REVENUE   IAP_REVENUE\n",
      "count  96568.000000       96568.000000  96568.000000  96568.000000\n",
      "mean       0.007649           0.480569      0.271590      0.759807\n",
      "std        0.643982           6.016094      2.314168      6.595650\n",
      "min        0.000000           0.000000      0.000000      0.000000\n",
      "25%        0.000000           0.000000      0.000000      0.000000\n",
      "50%        0.000000           0.000000      0.000000      0.000000\n",
      "75%        0.000000           0.000000      0.000000      0.000000\n",
      "max      159.200000         955.080000     19.990000    955.080000\n",
      "AD_rev_no_zeros_Control\n",
      "       BUMP_REVENUE  PROMOTION_REVENUE  SUB_REVENUE  IAP_REVENUE\n",
      "count   5392.000000        5392.000000  5392.000000  5392.000000\n",
      "mean       2.985102           5.689920     4.233787    12.908809\n",
      "std        7.932951          17.396739     8.168282    19.392876\n",
      "min        0.000000           0.000000     0.000000     1.990000\n",
      "25%        0.000000           0.000000     0.000000     1.990000\n",
      "50%        1.990000           0.000000     0.000000     7.990000\n",
      "75%        3.980000           7.990000     0.000000    19.990000\n",
      "max      203.490000         579.710000    19.990000   579.710000\n",
      "AD_rev_no_zeros_Subs_1d_3d\n",
      "       BUMP_REVENUE  PROMOTION_REVENUE  SUB_REVENUE  IAP_REVENUE\n",
      "count   4691.000000        4691.000000  4691.000000  4691.000000\n",
      "mean       0.151516           7.692513     5.454530    13.298559\n",
      "std        2.237007          19.573771     8.905114    20.504356\n",
      "min        0.000000           0.000000     0.000000     1.990000\n",
      "25%        0.000000           0.000000     0.000000     3.990000\n",
      "50%        0.000000           3.990000     0.000000     7.990000\n",
      "75%        0.000000           7.990000    19.990000    19.990000\n",
      "max       99.500000         845.970000    19.990000   845.970000\n",
      "AD_rev_no_zeros_Subs_bump_3d\n",
      "       BUMP_REVENUE  PROMOTION_REVENUE  SUB_REVENUE  IAP_REVENUE\n",
      "count   5365.000000        5365.000000  5365.000000  5365.000000\n",
      "mean       3.990932           4.629318     4.389230    13.009480\n",
      "std       46.145370          16.511140     8.275756    49.595779\n",
      "min        0.000000           0.000000     0.000000     1.990000\n",
      "25%        0.000000           0.000000     0.000000     1.990000\n",
      "50%        1.990000           0.000000     0.000000     7.990000\n",
      "75%        3.980000           7.990000     0.000000    19.990000\n",
      "max     3209.930000         543.320000    19.990000  3229.920000\n",
      "AD_rev_no_zeros_Subs_1d_3d_7d_14d\n",
      "       BUMP_REVENUE  PROMOTION_REVENUE  SUB_REVENUE  IAP_REVENUE\n",
      "count   4866.000000        4866.000000  4866.000000  4866.000000\n",
      "mean       0.151802           9.537102     5.389823    15.078728\n",
      "std        2.865290          25.140081     8.871784    25.446850\n",
      "min        0.000000           0.000000     0.000000     1.990000\n",
      "25%        0.000000           0.000000     0.000000     3.990000\n",
      "50%        0.000000           3.990000     0.000000    10.980000\n",
      "75%        0.000000          10.980000    19.990000    19.990000\n",
      "max      159.200000         955.080000    19.990000   955.080000\n",
      "iOS_rev_Control\n",
      "        BUMP_REVENUE  PROMOTION_REVENUE    SUB_REVENUE    IAP_REVENUE\n",
      "count  182870.000000      182870.000000  182870.000000  182870.000000\n",
      "mean        0.243723           0.455969       0.351003       1.050695\n",
      "std         3.739065           6.530222       2.625525       8.514255\n",
      "min         0.000000           0.000000       0.000000       0.000000\n",
      "25%         0.000000           0.000000       0.000000       0.000000\n",
      "50%         0.000000           0.000000       0.000000       0.000000\n",
      "75%         0.000000           0.000000       0.000000       0.000000\n",
      "max      1004.960000        1137.120000      19.990000    1381.440000\n",
      "iOS_rev_Subs_1d_3d\n",
      "        BUMP_REVENUE  PROMOTION_REVENUE    SUB_REVENUE    IAP_REVENUE\n",
      "count  182650.000000      182650.000000  182650.000000  182650.000000\n",
      "mean        0.005342           0.560563       0.420376       0.986280\n",
      "std         0.451927           6.013754       2.868211       6.785595\n",
      "min         0.000000           0.000000       0.000000       0.000000\n",
      "25%         0.000000           0.000000       0.000000       0.000000\n",
      "50%         0.000000           0.000000       0.000000       0.000000\n",
      "75%         0.000000           0.000000       0.000000       0.000000\n",
      "max       143.280000         934.830000      19.990000     934.830000\n",
      "iOS_rev_Subs_bump_3d\n",
      "        BUMP_REVENUE  PROMOTION_REVENUE    SUB_REVENUE    IAP_REVENUE\n",
      "count  181858.000000      181858.000000  181858.000000  181858.000000\n",
      "mean        0.247486           0.439793       0.353176       1.040455\n",
      "std         3.301844           6.334191       2.633494       8.066308\n",
      "min         0.000000           0.000000       0.000000       0.000000\n",
      "25%         0.000000           0.000000       0.000000       0.000000\n",
      "50%         0.000000           0.000000       0.000000       0.000000\n",
      "75%         0.000000           0.000000       0.000000       0.000000\n",
      "max       650.730000        1267.360000      19.990000    1267.360000\n",
      "iOS_rev_Subs_1d_3d_7d_14d\n",
      "        BUMP_REVENUE  PROMOTION_REVENUE    SUB_REVENUE    IAP_REVENUE\n",
      "count  181854.000000      181854.000000  181854.000000  181854.000000\n",
      "mean        0.010119           0.651845       0.390338       1.052302\n",
      "std         1.283598           5.868754       2.765959       6.737363\n",
      "min         0.000000           0.000000       0.000000       0.000000\n",
      "25%         0.000000           0.000000       0.000000       0.000000\n",
      "50%         0.000000           0.000000       0.000000       0.000000\n",
      "75%         0.000000           0.000000       0.000000       0.000000\n",
      "max       411.930000         797.570000      19.990000     797.570000\n",
      "iOS_rev_no_zeros_Control\n",
      "       BUMP_REVENUE  PROMOTION_REVENUE   SUB_REVENUE   IAP_REVENUE\n",
      "count  14718.000000       14718.000000  14718.000000  14718.000000\n",
      "mean       3.028238           5.665385      4.361183     13.054806\n",
      "std       12.856364          22.368809      8.256195     27.277251\n",
      "min        0.000000           0.000000      0.000000      1.990000\n",
      "25%        0.000000           0.000000      0.000000      1.990000\n",
      "50%        1.990000           0.000000      0.000000      7.990000\n",
      "75%        3.980000           7.990000      0.000000     19.990000\n",
      "max     1004.960000        1137.120000     19.990000   1381.440000\n",
      "iOS_rev_no_zeros_Subs_1d_3d\n",
      "       BUMP_REVENUE  PROMOTION_REVENUE   SUB_REVENUE   IAP_REVENUE\n",
      "count  13759.000000       13759.000000  13759.000000  13759.000000\n",
      "mean       0.070911           7.441447      5.580463     13.092821\n",
      "std        1.645230          20.710297      8.967593     21.278072\n",
      "min        0.000000           0.000000      0.000000      1.990000\n",
      "25%        0.000000           0.000000      0.000000      2.990000\n",
      "50%        0.000000           2.990000      0.000000      7.990000\n",
      "75%        0.000000           7.990000     19.990000     19.990000\n",
      "max      143.280000         934.830000     19.990000    934.830000\n",
      "iOS_rev_no_zeros_Subs_bump_3d\n",
      "       BUMP_REVENUE  PROMOTION_REVENUE   SUB_REVENUE   IAP_REVENUE\n",
      "count  14694.000000       14694.000000  14694.000000  14694.000000\n",
      "mean       3.062976           5.443029      4.371027     12.877032\n",
      "std       11.238913          21.664713      8.262905     25.551728\n",
      "min        0.000000           0.000000      0.000000      1.990000\n",
      "25%        0.000000           0.000000      0.000000      1.990000\n",
      "50%        1.990000           0.000000      0.000000      7.990000\n",
      "75%        3.980000           7.990000      0.000000     19.990000\n",
      "max      650.730000        1267.360000     19.990000   1267.360000\n",
      "iOS_rev_no_zeros_Subs_1d_3d_7d_14d\n",
      "       BUMP_REVENUE  PROMOTION_REVENUE  SUB_REVENUE   IAP_REVENUE\n",
      "count  13499.000000       13499.000000  13499.00000  13499.000000\n",
      "mean       0.136322           8.781436      5.25850     14.176258\n",
      "std        4.709623          19.814940      8.80178     20.627317\n",
      "min        0.000000           0.000000      0.00000      1.990000\n",
      "25%        0.000000           2.990000      0.00000      2.990000\n",
      "50%        0.000000           2.990000      0.00000      8.970000\n",
      "75%        0.000000           8.970000     19.99000     19.990000\n",
      "max      411.930000         797.570000     19.99000    797.570000\n"
     ]
    }
   ],
   "source": [
    "variant_dic = {}\n",
    "for df in df_names:\n",
    "    for variant_name in ['Control', 'Subs_1d_3d', 'Subs_bump_3d', 'Subs_1d_3d_7d_14d']:\n",
    "        print(df+'_'+variant_name)\n",
    "        print(rev_output[df][rev_output[df].VARIANT_NAME == variant_name].describe())\n",
    "        variants = rev_output[df].loc[rev_output[df]['VARIANT_NAME'] == variant_name]\n",
    "        variant_dic[df+'_'+variant_name+'_iap'] = variants.iloc[:,-1]\n",
    "#         print(variants)\n",
    "\n",
    "for key, value in variant_dic.items():\n",
    "    iap = pd.DataFrame(value)\n",
    "#     print(key, iap.describe())\n",
    "#     print(key, iap.head(10))\n",
    "    \n",
    "# for key, value in variant_dic.items():\n",
    "#     plt.hist(value, bins=np.arange(min(value)+1, max(value) + 1, 1), label=key, density = False)\n",
    "#     plt.title(key)\n",
    "#     plt.legend()\n",
    "#     plt.show()\n"
   ]
  },
  {
   "cell_type": "code",
   "execution_count": 9,
   "metadata": {},
   "outputs": [
    {
     "data": {
      "text/plain": [
       "dict_items([('AD_rev_Control_iap', array([13.93, 12.99,  7.96, ...,  7.98,  3.99, 23.97])), ('AD_rev_Subs_1d_3d_iap', array([19.99,  2.99, 19.99, ...,  7.99, 19.99,  7.99])), ('AD_rev_Subs_bump_3d_iap', array([ 1.99,  1.99,  7.99, ...,  7.99,  3.98, 19.99])), ('AD_rev_Subs_1d_3d_7d_14d_iap', array([ 5.98, 39.96,  2.99, ...,  7.99, 19.99,  2.99])), ('AD_rev_no_zeros_Control_iap', array([13.93, 12.99,  7.96, ...,  7.98,  3.99, 23.97])), ('AD_rev_no_zeros_Subs_1d_3d_iap', array([19.99,  2.99, 19.99, ...,  7.99, 19.99,  7.99])), ('AD_rev_no_zeros_Subs_bump_3d_iap', array([ 1.99,  1.99,  7.99, ...,  7.99,  3.98, 19.99])), ('AD_rev_no_zeros_Subs_1d_3d_7d_14d_iap', array([ 5.98, 39.96,  2.99, ...,  7.99, 19.99,  2.99])), ('iOS_rev_Control_iap', array([ 1.99, 19.99,  1.99, ...,  1.99,  1.99, 11.97])), ('iOS_rev_Subs_1d_3d_iap', array([19.99, 19.97,  2.99, ...,  7.99,  2.99, 10.98])), ('iOS_rev_Subs_bump_3d_iap', array([15.98,  7.99, 19.99, ...,  1.99,  1.99, 61.94])), ('iOS_rev_Subs_1d_3d_7d_14d_iap', array([19.99, 11.96,  2.99, ...,  2.99,  2.99,  2.99])), ('iOS_rev_no_zeros_Control_iap', array([ 1.99, 19.99,  1.99, ...,  1.99,  1.99, 11.97])), ('iOS_rev_no_zeros_Subs_1d_3d_iap', array([19.99, 19.97,  2.99, ...,  7.99,  2.99, 10.98])), ('iOS_rev_no_zeros_Subs_bump_3d_iap', array([15.98,  7.99, 19.99, ...,  1.99,  1.99, 61.94])), ('iOS_rev_no_zeros_Subs_1d_3d_7d_14d_iap', array([19.99, 11.96,  2.99, ...,  2.99,  2.99,  2.99]))])"
      ]
     },
     "execution_count": 9,
     "metadata": {},
     "output_type": "execute_result"
    }
   ],
   "source": [
    "variant_dic_nonzero = {}\n",
    "for variant, value_series in variant_dic.items():\n",
    "    values_non_zero = [v for v in value_series.values if v > 0]\n",
    "    variant_dic_nonzero[variant] = np.array(values_non_zero)\n",
    "    \n",
    "variant_dic_nonzero.items()"
   ]
  },
  {
   "cell_type": "markdown",
   "metadata": {},
   "source": [
    "# Getting \n",
    "1. Purchaser penetration\n",
    "2. Number of Users Bucketed\n",
    "3. Total IAP revenue within bucket"
   ]
  },
  {
   "cell_type": "code",
   "execution_count": 10,
   "metadata": {},
   "outputs": [
    {
     "data": {
      "text/plain": [
       "{'AD_rev_Control': (0.05569557492872784, 96812, 69604.29999999999),\n",
       " 'AD_rev_Subs_1d_3d': (0.04842872481004295, 96864, 62383.54000000001),\n",
       " 'AD_rev_Subs_bump_3d': (0.05546079495529022, 96735, 69795.86),\n",
       " 'AD_rev_Subs_1d_3d_7d_14d': (0.050389362935962224, 96568, 73373.09),\n",
       " 'iOS_rev_Control': (0.08048340351069065, 182870, 192140.63999999998),\n",
       " 'iOS_rev_Subs_1d_3d': (0.0753298658636737, 182650, 180144.12),\n",
       " 'iOS_rev_Subs_bump_3d': (0.08079930495221546, 181858, 189215.11),\n",
       " 'iOS_rev_Subs_1d_3d_7d_14d': (0.07422987671428728, 181854, 191365.31)}"
      ]
     },
     "execution_count": 10,
     "metadata": {},
     "output_type": "execute_result"
    }
   ],
   "source": [
    "p = {}\n",
    "proportion = [['AD_rev', 'AD_rev_no_zeros'],['iOS_rev', 'iOS_rev_no_zeros']]\n",
    "variant_name = ['Control', 'Subs_1d_3d', 'Subs_bump_3d', 'Subs_1d_3d_7d_14d']\n",
    "for i in range(len(proportion)):\n",
    "    for v_name in variant_name:\n",
    "        p_comb_n = proportion[i][1]+'_'+v_name\n",
    "        p_comb_d = proportion[i][0]+'_'+v_name\n",
    "        p[p_comb_d] = variant_dic[p_comb_n+'_iap'].count()/variant_dic[p_comb_d+'_iap'].count(), variant_dic[p_comb_d+'_iap'].count(), variant_dic[p_comb_d+'_iap'].sum()\n",
    "    \n",
    "p"
   ]
  },
  {
   "cell_type": "markdown",
   "metadata": {},
   "source": [
    "# Sampling the data for num_iterations times\n",
    "1. Simulating number of purchasers with binomial draws\n",
    "2. Simulating value spent with random draws\n",
    "3. Generate sim_final: values spent per purchaser"
   ]
  },
  {
   "cell_type": "code",
   "execution_count": 11,
   "metadata": {},
   "outputs": [],
   "source": [
    "num_iterations = 10000\n",
    "binomial = {}\n",
    "revenue = {}\n",
    "sim_final = {}\n",
    "for variants, values in p.items():\n",
    "    #print(int(values[1]))\n",
    "    for i in range(num_iterations):\n",
    "        binomial.setdefault(variants, []).append(np.random.binomial(values[1], values[0]))\n",
    "        revenue.setdefault(variants, []).append(np.random.choice(variant_dic_nonzero[variants + '_iap'], size=binomial[variants][i], replace=True))\n",
    "        sim_final.setdefault(variants, []).append(np.sum(revenue[variants][i]) / values[1])\n"
   ]
  },
  {
   "cell_type": "code",
   "execution_count": 15,
   "metadata": {},
   "outputs": [
    {
     "data": {
      "text/plain": [
       "0.6463829699372315"
      ]
     },
     "execution_count": 15,
     "metadata": {},
     "output_type": "execute_result"
    }
   ],
   "source": [
    "sim_final[ad_variant_name[1]][1000]"
   ]
  },
  {
   "cell_type": "markdown",
   "metadata": {},
   "source": [
    "# Get differences for key metric variants vs. control"
   ]
  },
  {
   "cell_type": "code",
   "execution_count": 16,
   "metadata": {},
   "outputs": [],
   "source": [
    "variant_name = []\n",
    "for name in p.keys():\n",
    "    variant_name.append(name)\n",
    "\n",
    "\n",
    "ad_variant_name = variant_name[:len(variant_name)//2]\n",
    "ios_variant_name = variant_name[len(variant_name)//2:]\n",
    "\n",
    "ad_bootstrapped_diff = {}\n",
    "ios_bootstrapped_diff = {}\n",
    "\n",
    "for i in range(1,len(ad_variant_name)):\n",
    "    for j in range(num_iterations):\n",
    "        ad_bootstrapped_diff.setdefault(ad_variant_name[i], []).append(sim_final[ad_variant_name[i]][j] - sim_final[ad_variant_name[0]][j])\n",
    "\n",
    "for i in range(1,len(ios_variant_name)):\n",
    "    for j in range(num_iterations):\n",
    "        ios_bootstrapped_diff.setdefault(ios_variant_name[i], []).append(sim_final[ios_variant_name[i]][j] - sim_final[ios_variant_name[0]][j])\n",
    "\n",
    "# ad_bootstrapped_diff, ios_bootstrapped_diff"
   ]
  },
  {
   "cell_type": "code",
   "execution_count": 23,
   "metadata": {},
   "outputs": [
    {
     "data": {
      "text/html": [
       "<div>\n",
       "<style scoped>\n",
       "    .dataframe tbody tr th:only-of-type {\n",
       "        vertical-align: middle;\n",
       "    }\n",
       "\n",
       "    .dataframe tbody tr th {\n",
       "        vertical-align: top;\n",
       "    }\n",
       "\n",
       "    .dataframe thead th {\n",
       "        text-align: right;\n",
       "    }\n",
       "</style>\n",
       "<table border=\"1\" class=\"dataframe\">\n",
       "  <thead>\n",
       "    <tr style=\"text-align: right;\">\n",
       "      <th></th>\n",
       "      <th>0</th>\n",
       "    </tr>\n",
       "  </thead>\n",
       "  <tbody>\n",
       "    <tr>\n",
       "      <th>count</th>\n",
       "      <td>10000.000000</td>\n",
       "    </tr>\n",
       "    <tr>\n",
       "      <th>mean</th>\n",
       "      <td>-0.075382</td>\n",
       "    </tr>\n",
       "    <tr>\n",
       "      <th>std</th>\n",
       "      <td>0.024388</td>\n",
       "    </tr>\n",
       "    <tr>\n",
       "      <th>min</th>\n",
       "      <td>-0.164219</td>\n",
       "    </tr>\n",
       "    <tr>\n",
       "      <th>25%</th>\n",
       "      <td>-0.092003</td>\n",
       "    </tr>\n",
       "    <tr>\n",
       "      <th>50%</th>\n",
       "      <td>-0.075724</td>\n",
       "    </tr>\n",
       "    <tr>\n",
       "      <th>75%</th>\n",
       "      <td>-0.058976</td>\n",
       "    </tr>\n",
       "    <tr>\n",
       "      <th>max</th>\n",
       "      <td>0.019177</td>\n",
       "    </tr>\n",
       "  </tbody>\n",
       "</table>\n",
       "</div>"
      ],
      "text/plain": [
       "                  0\n",
       "count  10000.000000\n",
       "mean      -0.075382\n",
       "std        0.024388\n",
       "min       -0.164219\n",
       "25%       -0.092003\n",
       "50%       -0.075724\n",
       "75%       -0.058976\n",
       "max        0.019177"
      ]
     },
     "execution_count": 23,
     "metadata": {},
     "output_type": "execute_result"
    }
   ],
   "source": [
    "pd.DataFrame(ad_bootstrapped_diff['AD_rev_Subs_1d_3d']).describe()\n",
    "# ios_bootstrapped_diff['iOS_rev_Subs_1d_3d'].describe()"
   ]
  },
  {
   "cell_type": "code",
   "execution_count": 28,
   "metadata": {},
   "outputs": [
    {
     "data": {
      "image/png": "[encoded data removed]",
      "text/plain": [
       "<Figure size 432x288 with 1 Axes>"
      ]
     },
     "metadata": {
      "needs_background": "light"
     },
     "output_type": "display_data"
    },
    {
     "data": {
      "image/png": "[encoded data removed]",
      "text/plain": [
       "<Figure size 432x288 with 1 Axes>"
      ]
     },
     "metadata": {
      "needs_background": "light"
     },
     "output_type": "display_data"
    },
    {
     "data": {
      "image/png": "[encoded data removed]",
      "text/plain": [
       "<Figure size 432x288 with 1 Axes>"
      ]
     },
     "metadata": {
      "needs_background": "light"
     },
     "output_type": "display_data"
    }
   ],
   "source": [
    "for key, value in ad_bootstrapped_diff.items():\n",
    "    ad_bootstrapped_diff[key] = np.array(value)\n",
    "    x=np.linspace(min(value), max(value), 42)\n",
    "    mean=value.mean()\n",
    "    std=value.std()\n",
    "    y_pdf=stats.norm.pdf(x,mean,std)\n",
    "    plt.hist(value, bins=1000, label=key, density = False)\n",
    "    plt.plot(x,y_pdf, label='PDF')\n",
    "    plt.title(key)\n",
    "    plt.legend()\n",
    "    plt.xlabel('Diff vs. Control')\n",
    "    plt.ylabel('Frequency')\n",
    "    plt.title(r'Histogram of Revenue Differences vs. Control')\n",
    "    plt.show()\n",
    "\n"
   ]
  },
  {
   "cell_type": "code",
   "execution_count": 33,
   "metadata": {},
   "outputs": [
    {
     "name": "stdout",
     "output_type": "stream",
     "text": [
      "AD_rev_Subs_1d_3d\n",
      "-0.07527160541295691\t(-0.12288888058925067, -0.026781848463194764)\n",
      "0.0024\n",
      "AD_rev_Subs_bump_3d\n",
      "-0.000737758488213669\t(-0.06879258395833036, 0.0949348276128198)\n",
      "0.9868\n",
      "AD_rev_Subs_1d_3d_7d_14d\n",
      "0.04056998520119903\t(-0.012127596054937064, 0.09548208780543904)\n",
      "0.1268\n"
     ]
    }
   ],
   "source": [
    "alpha=0.05\n",
    "output = {}\n",
    "\n",
    "for keys in ad_bootstrapped_diff.keys():\n",
    "    val = np.percentile(ad_bootstrapped_diff[keys], 50)\n",
    "    low = np.percentile(ad_bootstrapped_diff[keys], 100 * (alpha / 2.))\n",
    "    high = np.percentile(ad_bootstrapped_diff[keys], 100 * (1 - alpha / 2.))\n",
    "    print(keys)\n",
    "    print('{}\\t({}, {})'.format(val,low,high))\n",
    "    print(min(2*np.sum(np.array(ad_bootstrapped_diff[keys]) < 0)/num_iterations,\n",
    "              2*np.sum(np.array(ad_bootstrapped_diff[keys]) > 0)/num_iterations))"
   ]
  },
  {
   "cell_type": "code",
   "execution_count": 80,
   "metadata": {},
   "outputs": [
    {
     "name": "stdout",
     "output_type": "stream",
     "text": [
      "iOS_rev_Subs_1d_3d\n",
      "-0.06382884235720165\t(-0.11391661596749868, -0.015059657172403583)\n",
      "0.0092\n",
      "iOS_rev_Subs_bump_3d\n",
      "-0.00983462748871311\t(-0.06365272845911286, 0.044320165629588765)\n",
      "0.7186\n",
      "iOS_rev_Subs_1d_3d_7d_14d\n",
      "0.0022488450772901736\t(-0.04897017388857124, 0.05176610905657555)\n",
      "0.9276\n"
     ]
    }
   ],
   "source": [
    "for keys in ios_bootstrapped_diff.keys():\n",
    "    val = np.percentile(ios_bootstrapped_diff[keys], 50)\n",
    "    low = np.percentile(ios_bootstrapped_diff[keys], 100 * (alpha / 2.))\n",
    "    high = np.percentile(ios_bootstrapped_diff[keys], 100 * (1 - alpha / 2.))\n",
    "    print(keys)\n",
    "    print('{}\\t({}, {})'.format(val,low,high))\n",
    "    print(min(2*np.sum(np.array(ios_bootstrapped_diff[keys]) < 0)/num_iterations,\n",
    "              2*np.sum(np.array(ios_bootstrapped_diff[keys]) > 0)/num_iterations))"
   ]
  },
  {
   "cell_type": "code",
   "execution_count": 81,
   "metadata": {},
   "outputs": [],
   "source": [
    "AD_rev_Subs_1d_3d = np.array(ad_bootstrapped_diff['AD_rev_Subs_1d_3d'])\n",
    "AD_rev_Subs_bump_3d = np.array(ad_bootstrapped_diff['AD_rev_Subs_bump_3d'])\n",
    "AD_rev_Subs_1d_3d_7d_14d = np.array(ad_bootstrapped_diff['AD_rev_Subs_1d_3d_7d_14d'])\n",
    "iOS_rev_Subs_1d_3d = np.array(ios_bootstrapped_diff['iOS_rev_Subs_1d_3d'])\n",
    "iOS_rev_Subs_bump_3d = np.array(ios_bootstrapped_diff['iOS_rev_Subs_bump_3d'])\n",
    "iOS_rev_Subs_1d_3d_7d_14d = np.array(ios_bootstrapped_diff['iOS_rev_Subs_1d_3d_7d_14d'])\n",
    "\n",
    "ad_diff = np.concatenate((AD_rev_Subs_1d_3d, AD_rev_Subs_bump_3d, AD_rev_Subs_1d_3d_7d_14d),0)\n",
    "gph = [AD_rev_Subs_1d_3d, AD_rev_Subs_bump_3d, AD_rev_Subs_1d_3d_7d_14d, iOS_rev_Subs_1d_3d, iOS_rev_Subs_bump_3d, iOS_rev_Subs_1d_3d_7d_14d]"
   ]
  },
  {
   "cell_type": "code",
   "execution_count": 82,
   "metadata": {},
   "outputs": [
    {
     "data": {
      "image/png": "[encoded data removed]",
      "text/plain": [
       "<Figure size 864x432 with 1 Axes>"
      ]
     },
     "metadata": {
      "needs_background": "light"
     },
     "output_type": "display_data"
    }
   ],
   "source": [
    "# multiple box plots on one figure\n",
    "plt.figure(figsize=(12,6))\n",
    "plt.boxplot(gph, showfliers=False, vert=False)\n",
    "plt.show()"
   ]
  },
  {
   "cell_type": "code",
   "execution_count": 83,
   "metadata": {},
   "outputs": [
    {
     "data": {
      "text/html": [
       "<div>\n",
       "<style scoped>\n",
       "    .dataframe tbody tr th:only-of-type {\n",
       "        vertical-align: middle;\n",
       "    }\n",
       "\n",
       "    .dataframe tbody tr th {\n",
       "        vertical-align: top;\n",
       "    }\n",
       "\n",
       "    .dataframe thead th {\n",
       "        text-align: right;\n",
       "    }\n",
       "</style>\n",
       "<table border=\"1\" class=\"dataframe\">\n",
       "  <thead>\n",
       "    <tr style=\"text-align: right;\">\n",
       "      <th></th>\n",
       "      <th>AD_rev_Subs_1d_3d</th>\n",
       "      <th>AD_rev_Subs_bump_3d</th>\n",
       "      <th>AD_rev_Subs_1d_3d_7d_14d</th>\n",
       "    </tr>\n",
       "  </thead>\n",
       "  <tbody>\n",
       "    <tr>\n",
       "      <th>0</th>\n",
       "      <td>-0.085654</td>\n",
       "      <td>0.004815</td>\n",
       "      <td>-0.007810</td>\n",
       "    </tr>\n",
       "    <tr>\n",
       "      <th>1</th>\n",
       "      <td>-0.069580</td>\n",
       "      <td>0.002631</td>\n",
       "      <td>-0.012930</td>\n",
       "    </tr>\n",
       "    <tr>\n",
       "      <th>2</th>\n",
       "      <td>-0.065843</td>\n",
       "      <td>-0.024381</td>\n",
       "      <td>0.008806</td>\n",
       "    </tr>\n",
       "    <tr>\n",
       "      <th>3</th>\n",
       "      <td>-0.124080</td>\n",
       "      <td>-0.059233</td>\n",
       "      <td>-0.010508</td>\n",
       "    </tr>\n",
       "    <tr>\n",
       "      <th>4</th>\n",
       "      <td>-0.071849</td>\n",
       "      <td>-0.060728</td>\n",
       "      <td>-0.008965</td>\n",
       "    </tr>\n",
       "  </tbody>\n",
       "</table>\n",
       "</div>"
      ],
      "text/plain": [
       "   AD_rev_Subs_1d_3d  AD_rev_Subs_bump_3d  AD_rev_Subs_1d_3d_7d_14d\n",
       "0          -0.085654             0.004815                 -0.007810\n",
       "1          -0.069580             0.002631                 -0.012930\n",
       "2          -0.065843            -0.024381                  0.008806\n",
       "3          -0.124080            -0.059233                 -0.010508\n",
       "4          -0.071849            -0.060728                 -0.008965"
      ]
     },
     "execution_count": 83,
     "metadata": {},
     "output_type": "execute_result"
    }
   ],
   "source": [
    "import seaborn as sns\n",
    "sea_df_ad = pd.DataFrame.from_dict(ad_bootstrapped_diff)\n",
    "sea_df_ad.head()"
   ]
  },
  {
   "cell_type": "code",
   "execution_count": 50,
   "metadata": {},
   "outputs": [
    {
     "data": {
      "image/png": "[encoded data removed]",
      "text/plain": [
       "<Figure size 432x288 with 1 Axes>"
      ]
     },
     "metadata": {},
     "output_type": "display_data"
    }
   ],
   "source": [
    "sns.set(style=\"whitegrid\")\n",
    "ax = sns.boxplot(x='VARIANT_NAME', y='BUMP_REVENUE',data=df)"
   ]
  },
  {
   "cell_type": "markdown",
   "metadata": {},
   "source": [
    "# Archives"
   ]
  },
  {
   "cell_type": "code",
   "execution_count": 35,
   "metadata": {},
   "outputs": [],
   "source": [
    "# from collections import defaultdict\n",
    "\n",
    "# num_iterations = 10\n",
    "# sim_final = defaultdict(list)\n",
    "# for variant, values in p.items():\n",
    "#     #print(int(values[1]))\n",
    "#     for i in range(num_iterations):\n",
    "#         n_non_zero = np.random.binomial(values[1], values[0])  \n",
    "#         revenue = np.sum(np.random.choice(a=variant_dic_nonzero[variant + '_iap'], size=n_non_zero, replace=True))\n",
    "#         sim_final[variant].append(revenue/values[1])\n",
    "\n",
    "# sim_final"
   ]
  },
  {
   "cell_type": "code",
   "execution_count": 36,
   "metadata": {},
   "outputs": [],
   "source": [
    "# bootstrapped_means_diff = np.array(sim_final['AD_rev_Control']) - np.array(sim_final['AD_rev_Subs_1d_3d'])\n",
    "# alpha=0.05\n",
    "# low = np.percentile(bootstrapped_means_diff, 100 * (alpha / 2.))\n",
    "# val = np.percentile(bootstrapped_means_diff, 50)\n",
    "# high = np.percentile(bootstrapped_means_diff, 100 * (1 - alpha / 2.))\n",
    "\n",
    "# print(bootstrapped_means_diff.shape[0])\n",
    "# # print(variant)\n",
    "# print('{}\\t({}, {})'.format(val,low,high))\n",
    "# print('p-value: {}'.format(min(2*np.sum(bootstrapped_means_diff < 0)/bootstrapped_means_diff.shape[0],\n",
    "#                                2*np.sum(bootstrapped_means_diff > 0)/bootstrapped_means_diff.shape[0])))\n",
    "\n",
    "# print(bootstrapped_means_diff > 0)\n",
    "\n"
   ]
  },
  {
   "cell_type": "code",
   "execution_count": null,
   "metadata": {},
   "outputs": [],
   "source": [
    "# for variant in p.keys():\n",
    "#     bootstrapped_means_diff = np.array(sim_final[variant])\n",
    "#     alpha=0.05\n",
    "#     low = np.percentile(bootstrapped_means_diff, 100 * (alpha / 2.))\n",
    "#     val = np.percentile(bootstrapped_means_diff, 50)\n",
    "#     high = np.percentile(bootstrapped_means_diff, 100 * (1 - alpha / 2.))\n",
    "\n",
    "#     # print(ctrl.describe(), test.describe())\n",
    "#     print(variant)\n",
    "#     print('{}\\t({}, {})'.format(val,low,high))\n",
    "#     print('\\n')"
   ]
  },
  {
   "cell_type": "code",
   "execution_count": null,
   "metadata": {},
   "outputs": [],
   "source": []
  }
 ],
 "metadata": {
  "kernelspec": {
   "display_name": "Python 3",
   "language": "python",
   "name": "python3"
  },
  "language_info": {
   "codemirror_mode": {
    "name": "ipython",
    "version": 3
   },
   "file_extension": ".py",
   "mimetype": "text/x-python",
   "name": "python",
   "nbconvert_exporter": "python",
   "pygments_lexer": "ipython3",
   "version": "3.7.3"
  }
 },
 "nbformat": 4,
 "nbformat_minor": 2
}
