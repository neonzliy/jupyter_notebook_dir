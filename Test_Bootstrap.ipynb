{
 "cells": [
  {
   "cell_type": "markdown",
   "metadata": {},
   "source": [
    "# Set up notebook"
   ]
  },
  {
   "cell_type": "code",
   "execution_count": 1,
   "metadata": {
    "collapsed": true
   },
   "outputs": [],
   "source": [
    "import findspark\n",
    "findspark.init()"
   ]
  },
  {
   "cell_type": "code",
   "execution_count": 2,
   "metadata": {
    "collapsed": true,
    "scrolled": true
   },
   "outputs": [],
   "source": [
    "import pyspark\n",
    "from pyspark.sql import functions"
   ]
  },
  {
   "cell_type": "code",
   "execution_count": 3,
   "metadata": {},
   "outputs": [],
   "source": [
    "import numpy as np\n",
    "import pandas as pd\n",
    "import matplotlib.pyplot as plt"
   ]
  },
  {
   "cell_type": "code",
   "execution_count": 4,
   "metadata": {},
   "outputs": [],
   "source": [
    "sc = pyspark.SparkContext(appName=\"bootstrap\")"
   ]
  },
  {
   "cell_type": "code",
   "execution_count": 5,
   "metadata": {},
   "outputs": [],
   "source": [
    "sqlCtx = pyspark.SQLContext(sc)"
   ]
  },
  {
   "cell_type": "code",
   "execution_count": 6,
   "metadata": {},
   "outputs": [],
   "source": [
    "# @hidden_cell\n",
    "\n",
    "user='leon.zhao@offerupnow.com'\n",
    "password='Steel24ly@offerup'\n",
    "account='offerup'"
   ]
  },
  {
   "cell_type": "code",
   "execution_count": 7,
   "metadata": {},
   "outputs": [
    {
     "name": "stdout",
     "output_type": "stream",
     "text": [
      "> Connecting to Snowflake\n"
     ]
    }
   ],
   "source": [
    "import snowflake.connector\n",
    "import pandas as pd\n",
    "import numpy as np\n",
    "\n",
    "\n",
    "\n",
    "class SnowflakeSession:\n",
    "\n",
    "    def __init__(self, user, password, account):\n",
    "\n",
    "        # Connect and get cursor\n",
    "        print(\"> Connecting to Snowflake\")\n",
    "        self.ctx = snowflake.connector.connect(user=user,\n",
    "                                                password=password,\n",
    "                                                account=account, )\n",
    "        self.cs = self.ctx.cursor()\n",
    "\n",
    "        # Set up cursor\n",
    "        self.cs.execute(\"use warehouse analytics_wh;\")\n",
    "        self.cs.execute(\"use role marketing;\")\n",
    "        self.cs.execute(\"Alter session set timezone = 'America/Los_Angeles';\") # for TZ aware fields\n",
    "\n",
    "    @staticmethod\n",
    "    def parse_query_file(sql_query_file):\n",
    "        \"\"\"Parse SQL file and return query as string.\"\"\"\n",
    "        \n",
    "        # Reading of the SQL statement from sql_query.txt file\n",
    "        print(\"> Reading SQL statement from file\")\n",
    "        fd = open(sql_query_file, 'r')\n",
    "        sqlFile = fd.read()\n",
    "        fd.close()\n",
    "\n",
    "        # Extraction of the SQL statement (split on ';')\n",
    "        # Get only the first statement.\n",
    "        sql_sentence_list = sqlFile.split(';')\n",
    "        sql_query = [x for x in sql_sentence_list if x][0]\n",
    "\n",
    "        return sql_query\n",
    "\n",
    "    def execute_query(self, qry):\n",
    "        print(\"> Querying database with:\")\n",
    "        print(qry)\n",
    "        print(\"\\n> Fetching data ...\")\n",
    "        self.cs.execute(qry)\n",
    "        colnames = [x[0] for x in self.cs.description]\n",
    "        rows = self.cs.fetchall()\n",
    "        return rows, colnames\n",
    "\n",
    "    @staticmethod\n",
    "    def result_to_df(rows, colnames):\n",
    "        print(\"> Saving to dataframe ...\")\n",
    "        df =  pd.DataFrame(rows, columns=colnames)\n",
    "        df.replace({r'\\r': ''}, regex=True, inplace=True)\n",
    "        return df\n",
    "\n",
    "\n",
    "    @staticmethod\n",
    "    def save_df_to_csv(df, fname):\n",
    "        print(\"\\n> Saving to file ...\")\n",
    "        if '.csv' in fname:\n",
    "            separator = ','\n",
    "        else:\n",
    "            separator = '\\t'\n",
    "        df.to_csv(fname, index=False, sep=separator, header=True, encoding='utf-8')\n",
    "\n",
    "    def close_session(self):\n",
    "        print(\"\\n> Closing session ...\")\n",
    "        self.cs.close()\n",
    "        self.ctx.close()\n",
    "        \n",
    "s = SnowflakeSession(user, password, account)"
   ]
  },
  {
   "cell_type": "markdown",
   "metadata": {},
   "source": [
    "# Adjust Dataset for bootstrap"
   ]
  },
  {
   "cell_type": "code",
   "execution_count": 13,
   "metadata": {},
   "outputs": [
    {
     "name": "stdout",
     "output_type": "stream",
     "text": [
      "> Reading SQL statement from file\n",
      "select *\n",
      "from ou_users.leon.Promote_edit_redesign_summary\n",
      "\n",
      "> Querying database with:\n",
      "select *\n",
      "from ou_users.leon.Promote_edit_redesign_summary\n",
      "\n",
      "\n",
      "> Fetching data ...\n"
     ]
    }
   ],
   "source": [
    "data = s.parse_query_file('/Users/leon.zhao/Desktop/SQL/testbootstrap')\n",
    "print(data)\n",
    "rows, colnames = s.execute_query(data)"
   ]
  },
  {
   "cell_type": "code",
   "execution_count": 14,
   "metadata": {},
   "outputs": [
    {
     "data": {
      "text/html": [
       "<div>\n",
       "<style scoped>\n",
       "    .dataframe tbody tr th:only-of-type {\n",
       "        vertical-align: middle;\n",
       "    }\n",
       "\n",
       "    .dataframe tbody tr th {\n",
       "        vertical-align: top;\n",
       "    }\n",
       "\n",
       "    .dataframe thead th {\n",
       "        text-align: right;\n",
       "    }\n",
       "</style>\n",
       "<table border=\"1\" class=\"dataframe\">\n",
       "  <thead>\n",
       "    <tr style=\"text-align: right;\">\n",
       "      <th></th>\n",
       "      <th>PLAT</th>\n",
       "      <th>USER_ID</th>\n",
       "      <th>VARIANT_ID</th>\n",
       "      <th>FIRST_EXPOSURE_TS</th>\n",
       "      <th>VARIANT_NAME</th>\n",
       "      <th>BUMPS</th>\n",
       "      <th>BUMP_REVENUE</th>\n",
       "      <th>ITEM_PROMOTIONS</th>\n",
       "      <th>PROMOTION_REVENUE</th>\n",
       "      <th>SUB_PURCHASES</th>\n",
       "      <th>SUB_REVENUE</th>\n",
       "      <th>PRICE_1DAY_PURCHASES</th>\n",
       "      <th>PRICE_3DAY_PURCHASES</th>\n",
       "      <th>PRICE_7DAY_PURCHASES</th>\n",
       "      <th>PRICE_14DAY_PURCHASES</th>\n",
       "      <th>BUMP_CONVERSION</th>\n",
       "      <th>PROMO_CONVERSION</th>\n",
       "      <th>IAP_CONVERSION</th>\n",
       "    </tr>\n",
       "  </thead>\n",
       "  <tbody>\n",
       "    <tr>\n",
       "      <th>0</th>\n",
       "      <td>AD</td>\n",
       "      <td>42449161</td>\n",
       "      <td>\"4778179850272768\"</td>\n",
       "      <td>2019-02-18 20:42:27</td>\n",
       "      <td>Variant 1</td>\n",
       "      <td>0</td>\n",
       "      <td>0.0</td>\n",
       "      <td>0</td>\n",
       "      <td>0.0</td>\n",
       "      <td>0</td>\n",
       "      <td>0.0</td>\n",
       "      <td>0</td>\n",
       "      <td>0</td>\n",
       "      <td>0</td>\n",
       "      <td>0</td>\n",
       "      <td>0</td>\n",
       "      <td>0</td>\n",
       "      <td>0</td>\n",
       "    </tr>\n",
       "    <tr>\n",
       "      <th>1</th>\n",
       "      <td>AD</td>\n",
       "      <td>26760962</td>\n",
       "      <td>\"4778179850272768\"</td>\n",
       "      <td>2019-02-05 22:36:52</td>\n",
       "      <td>Variant 1</td>\n",
       "      <td>0</td>\n",
       "      <td>0.0</td>\n",
       "      <td>0</td>\n",
       "      <td>0.0</td>\n",
       "      <td>0</td>\n",
       "      <td>0.0</td>\n",
       "      <td>0</td>\n",
       "      <td>0</td>\n",
       "      <td>0</td>\n",
       "      <td>0</td>\n",
       "      <td>0</td>\n",
       "      <td>0</td>\n",
       "      <td>0</td>\n",
       "    </tr>\n",
       "    <tr>\n",
       "      <th>2</th>\n",
       "      <td>AD</td>\n",
       "      <td>49258801</td>\n",
       "      <td>\"4778179850272768\"</td>\n",
       "      <td>2019-02-16 03:58:34</td>\n",
       "      <td>Variant 1</td>\n",
       "      <td>0</td>\n",
       "      <td>0.0</td>\n",
       "      <td>0</td>\n",
       "      <td>0.0</td>\n",
       "      <td>0</td>\n",
       "      <td>0.0</td>\n",
       "      <td>0</td>\n",
       "      <td>0</td>\n",
       "      <td>0</td>\n",
       "      <td>0</td>\n",
       "      <td>0</td>\n",
       "      <td>0</td>\n",
       "      <td>0</td>\n",
       "    </tr>\n",
       "    <tr>\n",
       "      <th>3</th>\n",
       "      <td>AD</td>\n",
       "      <td>41566905</td>\n",
       "      <td>\"4778179850272768\"</td>\n",
       "      <td>2019-02-06 03:21:19</td>\n",
       "      <td>Variant 1</td>\n",
       "      <td>0</td>\n",
       "      <td>0.0</td>\n",
       "      <td>0</td>\n",
       "      <td>0.0</td>\n",
       "      <td>0</td>\n",
       "      <td>0.0</td>\n",
       "      <td>0</td>\n",
       "      <td>0</td>\n",
       "      <td>0</td>\n",
       "      <td>0</td>\n",
       "      <td>0</td>\n",
       "      <td>0</td>\n",
       "      <td>0</td>\n",
       "    </tr>\n",
       "    <tr>\n",
       "      <th>4</th>\n",
       "      <td>AD</td>\n",
       "      <td>14481877</td>\n",
       "      <td>\"4778179850272768\"</td>\n",
       "      <td>2019-02-06 08:30:21</td>\n",
       "      <td>Variant 1</td>\n",
       "      <td>0</td>\n",
       "      <td>0.0</td>\n",
       "      <td>0</td>\n",
       "      <td>0.0</td>\n",
       "      <td>0</td>\n",
       "      <td>0.0</td>\n",
       "      <td>0</td>\n",
       "      <td>0</td>\n",
       "      <td>0</td>\n",
       "      <td>0</td>\n",
       "      <td>0</td>\n",
       "      <td>0</td>\n",
       "      <td>0</td>\n",
       "    </tr>\n",
       "  </tbody>\n",
       "</table>\n",
       "</div>"
      ],
      "text/plain": [
       "  PLAT   USER_ID          VARIANT_ID   FIRST_EXPOSURE_TS VARIANT_NAME  BUMPS  \\\n",
       "0   AD  42449161  \"4778179850272768\" 2019-02-18 20:42:27    Variant 1      0   \n",
       "1   AD  26760962  \"4778179850272768\" 2019-02-05 22:36:52    Variant 1      0   \n",
       "2   AD  49258801  \"4778179850272768\" 2019-02-16 03:58:34    Variant 1      0   \n",
       "3   AD  41566905  \"4778179850272768\" 2019-02-06 03:21:19    Variant 1      0   \n",
       "4   AD  14481877  \"4778179850272768\" 2019-02-06 08:30:21    Variant 1      0   \n",
       "\n",
       "   BUMP_REVENUE  ITEM_PROMOTIONS  PROMOTION_REVENUE  SUB_PURCHASES  \\\n",
       "0           0.0                0                0.0              0   \n",
       "1           0.0                0                0.0              0   \n",
       "2           0.0                0                0.0              0   \n",
       "3           0.0                0                0.0              0   \n",
       "4           0.0                0                0.0              0   \n",
       "\n",
       "   SUB_REVENUE  PRICE_1DAY_PURCHASES  PRICE_3DAY_PURCHASES  \\\n",
       "0          0.0                     0                     0   \n",
       "1          0.0                     0                     0   \n",
       "2          0.0                     0                     0   \n",
       "3          0.0                     0                     0   \n",
       "4          0.0                     0                     0   \n",
       "\n",
       "   PRICE_7DAY_PURCHASES  PRICE_14DAY_PURCHASES  BUMP_CONVERSION  \\\n",
       "0                     0                      0                0   \n",
       "1                     0                      0                0   \n",
       "2                     0                      0                0   \n",
       "3                     0                      0                0   \n",
       "4                     0                      0                0   \n",
       "\n",
       "   PROMO_CONVERSION  IAP_CONVERSION  \n",
       "0                 0               0  \n",
       "1                 0               0  \n",
       "2                 0               0  \n",
       "3                 0               0  \n",
       "4                 0               0  "
      ]
     },
     "execution_count": 14,
     "metadata": {},
     "output_type": "execute_result"
    }
   ],
   "source": [
    "df = pd.DataFrame(data = rows, columns = colnames)\n",
    "df.head()"
   ]
  },
  {
   "cell_type": "code",
   "execution_count": 15,
   "metadata": {},
   "outputs": [
    {
     "data": {
      "text/plain": [
       "count    986.000000\n",
       "mean      15.607850\n",
       "std       18.899688\n",
       "min        1.990000\n",
       "25%        5.970000\n",
       "50%       17.970000\n",
       "75%       19.990000\n",
       "max      379.810000\n",
       "Name: IAP_REVENUE, dtype: float64"
      ]
     },
     "execution_count": 15,
     "metadata": {},
     "output_type": "execute_result"
    }
   ],
   "source": [
    "AD = df.loc[df['PLAT'] == 'AD']\n",
    "ad_rev = AD.loc[:,['PLAT','VARIANT_NAME','BUMP_REVENUE','PROMOTION_REVENUE','SUB_REVENUE']]\n",
    "ad_rev = ad_rev[(ad_rev.BUMP_REVENUE != 0.0) | (ad_rev.PROMOTION_REVENUE != 0.0) | (ad_rev.SUB_REVENUE != 0.0)]\n",
    "ad_rev['IAP_REVENUE'] = ad_rev.iloc[:,1:].sum(axis=1)\n",
    "ad_control = ad_rev.loc[ad_rev['VARIANT_NAME'] == 'Control']\n",
    "ad_variant_1 = ad_rev.loc[ad_rev['VARIANT_NAME'] != 'Control']\n",
    "ad_control_iap_rev = ad_control.iloc[:,-1]\n",
    "ad_variant_1_iap_rev = ad_variant_1.iloc[:,-1]\n",
    "ad_control_iap_rev.describe()"
   ]
  },
  {
   "cell_type": "code",
   "execution_count": 16,
   "metadata": {},
   "outputs": [
    {
     "data": {
      "text/plain": [
       "count    939.000000\n",
       "mean      15.590362\n",
       "std       28.960017\n",
       "min        1.990000\n",
       "25%        4.485000\n",
       "50%       19.990000\n",
       "75%       19.990000\n",
       "max      825.930000\n",
       "Name: IAP_REVENUE, dtype: float64"
      ]
     },
     "execution_count": 16,
     "metadata": {},
     "output_type": "execute_result"
    }
   ],
   "source": [
    "ad_variant_1_iap_rev.describe()"
   ]
  },
  {
   "cell_type": "code",
   "execution_count": 210,
   "metadata": {},
   "outputs": [
    {
     "data": {
      "image/png": "[encoded data removed]",
      "text/plain": [
       "<Figure size 432x288 with 1 Axes>"
      ]
     },
     "metadata": {
      "needs_background": "light"
     },
     "output_type": "display_data"
    }
   ],
   "source": [
    "plt.hist(ad_control.iloc[:,-1], bins=np.arange(min(ad_control.iloc[:,-1])+1, max(ad_control.iloc[:,-1]) + 1, 1), label='Control')\n",
    "# plt.hist(ad_control_iap_rev, label='Control')\n",
    "plt.title('Ctrl Data')\n",
    "plt.legend()\n",
    "plt.show()"
   ]
  },
  {
   "cell_type": "code",
   "execution_count": 211,
   "metadata": {},
   "outputs": [
    {
     "data": {
      "image/png": "[encoded data removed]",
      "text/plain": [
       "<Figure size 432x288 with 1 Axes>"
      ]
     },
     "metadata": {
      "needs_background": "light"
     },
     "output_type": "display_data"
    }
   ],
   "source": [
    "plt.hist(ad_variant_1_iap_rev, bins=np.arange(min(ad_variant_1.iloc[:,-1])+1, max(ad_variant_1.iloc[:,-1]) + 1, 1),label='Variant_1', color='orange')\n",
    "plt.title('V1 Data')\n",
    "plt.legend()\n",
    "plt.show()"
   ]
  },
  {
   "cell_type": "code",
   "execution_count": 172,
   "metadata": {},
   "outputs": [
    {
     "data": {
      "text/html": [
       "<div>\n",
       "<style scoped>\n",
       "    .dataframe tbody tr th:only-of-type {\n",
       "        vertical-align: middle;\n",
       "    }\n",
       "\n",
       "    .dataframe tbody tr th {\n",
       "        vertical-align: top;\n",
       "    }\n",
       "\n",
       "    .dataframe thead th {\n",
       "        text-align: right;\n",
       "    }\n",
       "</style>\n",
       "<table border=\"1\" class=\"dataframe\">\n",
       "  <thead>\n",
       "    <tr style=\"text-align: right;\">\n",
       "      <th></th>\n",
       "      <th>PLAT</th>\n",
       "      <th>BUMP_REVENUE</th>\n",
       "      <th>PROMOTION_REVENUE</th>\n",
       "      <th>SUB_REVENUE</th>\n",
       "      <th>IAP_REVENUE</th>\n",
       "    </tr>\n",
       "  </thead>\n",
       "  <tbody>\n",
       "    <tr>\n",
       "      <th>1015</th>\n",
       "      <td>iOS</td>\n",
       "      <td>0.00</td>\n",
       "      <td>2.99</td>\n",
       "      <td>0.00</td>\n",
       "      <td>2.99</td>\n",
       "    </tr>\n",
       "    <tr>\n",
       "      <th>1022</th>\n",
       "      <td>iOS</td>\n",
       "      <td>0.00</td>\n",
       "      <td>2.99</td>\n",
       "      <td>0.00</td>\n",
       "      <td>2.99</td>\n",
       "    </tr>\n",
       "    <tr>\n",
       "      <th>1101</th>\n",
       "      <td>iOS</td>\n",
       "      <td>0.00</td>\n",
       "      <td>0.00</td>\n",
       "      <td>19.99</td>\n",
       "      <td>19.99</td>\n",
       "    </tr>\n",
       "    <tr>\n",
       "      <th>1136</th>\n",
       "      <td>iOS</td>\n",
       "      <td>0.00</td>\n",
       "      <td>0.00</td>\n",
       "      <td>19.99</td>\n",
       "      <td>19.99</td>\n",
       "    </tr>\n",
       "    <tr>\n",
       "      <th>1147</th>\n",
       "      <td>iOS</td>\n",
       "      <td>0.00</td>\n",
       "      <td>2.99</td>\n",
       "      <td>0.00</td>\n",
       "      <td>2.99</td>\n",
       "    </tr>\n",
       "    <tr>\n",
       "      <th>1152</th>\n",
       "      <td>iOS</td>\n",
       "      <td>1.99</td>\n",
       "      <td>0.00</td>\n",
       "      <td>0.00</td>\n",
       "      <td>1.99</td>\n",
       "    </tr>\n",
       "    <tr>\n",
       "      <th>1247</th>\n",
       "      <td>iOS</td>\n",
       "      <td>0.00</td>\n",
       "      <td>0.00</td>\n",
       "      <td>19.99</td>\n",
       "      <td>19.99</td>\n",
       "    </tr>\n",
       "    <tr>\n",
       "      <th>1313</th>\n",
       "      <td>iOS</td>\n",
       "      <td>0.00</td>\n",
       "      <td>3.99</td>\n",
       "      <td>0.00</td>\n",
       "      <td>3.99</td>\n",
       "    </tr>\n",
       "    <tr>\n",
       "      <th>1319</th>\n",
       "      <td>iOS</td>\n",
       "      <td>0.00</td>\n",
       "      <td>23.97</td>\n",
       "      <td>0.00</td>\n",
       "      <td>23.97</td>\n",
       "    </tr>\n",
       "    <tr>\n",
       "      <th>1328</th>\n",
       "      <td>iOS</td>\n",
       "      <td>0.00</td>\n",
       "      <td>0.00</td>\n",
       "      <td>19.99</td>\n",
       "      <td>19.99</td>\n",
       "    </tr>\n",
       "  </tbody>\n",
       "</table>\n",
       "</div>"
      ],
      "text/plain": [
       "     PLAT  BUMP_REVENUE  PROMOTION_REVENUE  SUB_REVENUE  IAP_REVENUE\n",
       "1015  iOS          0.00               2.99         0.00         2.99\n",
       "1022  iOS          0.00               2.99         0.00         2.99\n",
       "1101  iOS          0.00               0.00        19.99        19.99\n",
       "1136  iOS          0.00               0.00        19.99        19.99\n",
       "1147  iOS          0.00               2.99         0.00         2.99\n",
       "1152  iOS          1.99               0.00         0.00         1.99\n",
       "1247  iOS          0.00               0.00        19.99        19.99\n",
       "1313  iOS          0.00               3.99         0.00         3.99\n",
       "1319  iOS          0.00              23.97         0.00        23.97\n",
       "1328  iOS          0.00               0.00        19.99        19.99"
      ]
     },
     "execution_count": 172,
     "metadata": {},
     "output_type": "execute_result"
    }
   ],
   "source": [
    "iOS = df.loc[df['PLAT'] == 'iOS']\n",
    "ios_rev = iOS.loc[:,['PLAT','BUMP_REVENUE','PROMOTION_REVENUE','SUB_REVENUE']]\n",
    "ios_rev = ios_rev[(ios_rev.BUMP_REVENUE != 0.0) | (ios_rev.PROMOTION_REVENUE != 0.0) | (ios_rev.SUB_REVENUE != 0.0)]\n",
    "ios_rev['IAP_REVENUE'] = ios_rev.iloc[:,1:].sum(axis=1)\n",
    "ios_rev.head(10)"
   ]
  },
  {
   "cell_type": "markdown",
   "metadata": {},
   "source": [
    "# Bootstrap with Numpy"
   ]
  },
  {
   "cell_type": "code",
   "execution_count": 218,
   "metadata": {},
   "outputs": [],
   "source": [
    "ctrl = ad_control_iap_rev\n",
    "test = ad_variant_1_iap_rev\n",
    "num_iterations = 10000\n",
    "bootstrapped_means_ctrl = []\n",
    "bootstrapped_means_test = []\n",
    "for i in range(num_iterations):\n",
    "    data_bootstrap_ctrl = np.random.choice(ctrl, size=ctrl.shape[0], replace=True)\n",
    "    data_bootstrap_test = np.random.choice(test, size=test.shape[0], replace=True)\n",
    "    ctrl_mean = np.mean(data_bootstrap_ctrl)\n",
    "    test_mean = np.mean(data_bootstrap_test)\n",
    "    bootstrapped_means_ctrl.append(ctrl_mean)\n",
    "    bootstrapped_means_test.append(test_mean)\n",
    "bootstrapped_means_ctrl = np.array(bootstrapped_means_ctrl)\n",
    "bootstrapped_means_test = np.array(bootstrapped_means_test)\n",
    "bootstrapped_means_diff = bootstrapped_means_test - bootstrapped_means_ctrl"
   ]
  },
  {
   "cell_type": "markdown",
   "metadata": {},
   "source": [
    "two tailed stat sig test, null hypothesis of no difference"
   ]
  },
  {
   "cell_type": "code",
   "execution_count": 219,
   "metadata": {},
   "outputs": [
    {
     "name": "stdout",
     "output_type": "stream",
     "text": [
      "-0.07085571807218027\t(-2.004140512975044, 2.3588344298885158)\n",
      "p-value: 0.9466\n"
     ]
    }
   ],
   "source": [
    "alpha=0.05\n",
    "low = np.percentile(bootstrapped_means_diff, 100 * (alpha / 2.))\n",
    "val = np.percentile(bootstrapped_means_diff, 50)\n",
    "high = np.percentile(bootstrapped_means_diff, 100 * (1 - alpha / 2.))\n",
    "x_bar = np.mean(test) - np.mean(ctrl)\n",
    "print('{}\\t({}, {})'.format(val,low,high))\n",
    "print('p-value: {}'.format(min(2*np.sum(bootstrapped_means_diff < 0)/bootstrapped_means_diff.shape[0],\n",
    "                               2*np.sum(bootstrapped_means_diff > 0)/bootstrapped_means_diff.shape[0])))"
   ]
  },
  {
   "cell_type": "markdown",
   "metadata": {},
   "source": [
    "# Bootsrap with PySpark"
   ]
  },
  {
   "cell_type": "markdown",
   "metadata": {},
   "source": [
    "each data frame includes all users and metrics from a given experiment and variant\n",
    "\n",
    "this assumes a dense dataset where most users have non-zero values for the metric (e.g. clicks)\n",
    "\n",
    "in the case of a sparse metric (e.g. shipment) see the trick below to speed up sampling"
   ]
  },
  {
   "cell_type": "code",
   "execution_count": 21,
   "metadata": {},
   "outputs": [],
   "source": [
    "sdf_ctrl = sqlCtx.createDataFrame(pd.DataFrame({'metric_1': ctrl, 'metric_2': 2*ctrl}))\n",
    "sdf_test = sqlCtx.createDataFrame(pd.DataFrame({'metric_1': test, 'metric_2': 2*test}))"
   ]
  },
  {
   "cell_type": "code",
   "execution_count": 22,
   "metadata": {
    "scrolled": true
   },
   "outputs": [],
   "source": [
    "bootstrapped_means_diff = []\n",
    "# TODO: this for loop could be parallelized\n",
    "for i in range(num_iterations):\n",
    "    bootstrap_ctrl = sdf_ctrl.sample(withReplacement=True, fraction=1.0)\n",
    "    bootstrap_test = sdf_test.sample(withReplacement=True, fraction=1.0)\n",
    "    ctrl_mean = np.array(bootstrap_ctrl.select(*[functions.mean(col) for col in bootstrap_ctrl.columns]).collect())\n",
    "    test_mean = np.array(bootstrap_test.select(*[functions.mean(col) for col in bootstrap_test.columns]).collect())\n",
    "    means_diff = test_mean - ctrl_mean\n",
    "    bootstrapped_means_diff.append(means_diff)\n",
    "bootstrapped_means_diff = np.array(bootstrapped_means_diff)"
   ]
  },
  {
   "cell_type": "markdown",
   "metadata": {},
   "source": [
    "two tailed stat sig test, null hypothesis of no difference for metric 1"
   ]
  },
  {
   "cell_type": "code",
   "execution_count": 23,
   "metadata": {},
   "outputs": [
    {
     "name": "stdout",
     "output_type": "stream",
     "text": [
      "0.07984429670493864\t(0.054560269415041406, 0.10512832399483589)\n",
      "p-value: 0.0\n"
     ]
    }
   ],
   "source": [
    "low = np.percentile(bootstrapped_means_diff[0], 100 * (alpha / 2.))\n",
    "val = np.percentile(bootstrapped_means_diff[0], 50)\n",
    "high = np.percentile(bootstrapped_means_diff[0], 100 * (1 - alpha / 2.))\n",
    "print('{}\\t({}, {})'.format(val,low,high))\n",
    "print('p-value: {}'.format(min(2*np.sum(bootstrapped_means_diff[0] < 0)/bootstrapped_means_diff.shape[0],\n",
    "                               2*np.sum(bootstrapped_means_diff[0] > 0)/bootstrapped_means_diff.shape[0])))"
   ]
  },
  {
   "cell_type": "markdown",
   "metadata": {},
   "source": [
    "# Notes / References"
   ]
  },
  {
   "cell_type": "markdown",
   "metadata": {},
   "source": [
    "**note on case of sparse data from facebook implementation --**\n",
    "\n",
    "in the sparse case we dont actually need to bootstrap\n",
    "the full sparse array since most values are 0\n",
    "instead for each bootstrap iteration we:\n",
    "   1. generate B number of non-zero entries to sample from the binomial distribution with n = all users buckets and p = proportion of users with non-zero entries\n",
    "   2. resample with replacement the non-zero entries from values B times\n",
    "   3. create a new sparse array with the B resamples, zero otherwise"
   ]
  },
  {
   "cell_type": "markdown",
   "metadata": {},
   "source": [
    "**references**\n",
    "* http://faculty.psy.ohio-state.edu/myung/personal/course/826/bootstrap_hypo.pdf\n",
    "* https://ocw.mit.edu/courses/mathematics/18-05-introduction-to-probability-and-statistics-spring-2014/readings/MIT18_05S14_Reading24.pdf\n",
    "* https://github.com/facebookincubator/bootstrapped/blob/master/bootstrapped/bootstrap.py\n",
    "* https://fullstackml.com/how-to-check-hypotheses-with-bootstrap-and-apache-spark-cd750775286a"
   ]
  }
 ],
 "metadata": {
  "kernelspec": {
   "display_name": "Python 3",
   "language": "python",
   "name": "python3"
  },
  "language_info": {
   "codemirror_mode": {
    "name": "ipython",
    "version": 3
   },
   "file_extension": ".py",
   "mimetype": "text/x-python",
   "name": "python",
   "nbconvert_exporter": "python",
   "pygments_lexer": "ipython3",
   "version": "3.6.5"
  }
 },
 "nbformat": 4,
 "nbformat_minor": 2
}
