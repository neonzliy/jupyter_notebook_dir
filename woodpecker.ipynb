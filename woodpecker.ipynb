{
 "cells": [
  {
   "cell_type": "code",
   "execution_count": 1,
   "metadata": {},
   "outputs": [],
   "source": [
    "ab = {       'Swaroop'   : 'swaroopch@byteofpython.info',\n",
    "             'Larry'     : 'larry@wall.org',\n",
    "             'Matsumoto' : 'matz@ruby-lang.org',\n",
    "             'Spammer'   : 'spammer@hotmail.com'\n",
    "     }"
   ]
  },
  {
   "cell_type": "code",
   "execution_count": 3,
   "metadata": {},
   "outputs": [
    {
     "name": "stdout",
     "output_type": "stream",
     "text": [
      "Swaroop's address is swaroopch@byteofpython.info\n"
     ]
    }
   ],
   "source": [
    "print(\"Swaroop's address is %s\" % ab['Swaroop'])"
   ]
  },
  {
   "cell_type": "code",
   "execution_count": 4,
   "metadata": {},
   "outputs": [
    {
     "name": "stdout",
     "output_type": "stream",
     "text": [
      "\n",
      "There are 4 contacts in the address-book\n",
      "\n"
     ]
    }
   ],
   "source": [
    "# Adding a key/value pair\n",
    "ab['Guido'] = 'guido@python.org'\n",
    "\n",
    "# Deleting a key/value pair\n",
    "del ab['Spammer']\n",
    "\n",
    "print('\\nThere are %d contacts in the address-book\\n' % len(ab))"
   ]
  },
  {
   "cell_type": "code",
   "execution_count": 5,
   "metadata": {},
   "outputs": [
    {
     "name": "stdout",
     "output_type": "stream",
     "text": [
      "Contact Swaroop at swaroopch@byteofpython.info\n",
      "Contact Larry at larry@wall.org\n",
      "Contact Matsumoto at matz@ruby-lang.org\n",
      "Contact Guido at guido@python.org\n"
     ]
    }
   ],
   "source": [
    "for name, address in ab.items():\n",
    "    print ('Contact %s at %s' % (name, address))"
   ]
  },
  {
   "cell_type": "code",
   "execution_count": 9,
   "metadata": {},
   "outputs": [
    {
     "name": "stdout",
     "output_type": "stream",
     "text": [
      "\n",
      "Guido's address is guido@python.org\n"
     ]
    }
   ],
   "source": [
    "if 'Guido' in ab: # OR ab.has_key('Guido')\n",
    "    print (\"\\nGuido's address is %s\" % ab['Guido'])"
   ]
  },
  {
   "cell_type": "code",
   "execution_count": 10,
   "metadata": {},
   "outputs": [
    {
     "data": {
      "text/plain": [
       "274877906944"
      ]
     },
     "execution_count": 10,
     "metadata": {},
     "output_type": "execute_result"
    }
   ],
   "source": [
    "2**38"
   ]
  },
  {
   "cell_type": "code",
   "execution_count": 21,
   "metadata": {},
   "outputs": [
    {
     "name": "stdout",
     "output_type": "stream",
     "text": [
      "A abcdefghijklmnopqrstuvwxyz\n",
      "B bcdefghijklmnopqrstuvwxyz\n",
      "C cdefghijklmnopqrstuvwxyz\n",
      "D defghijklmnopqrstuvwxyz\n",
      "E efghijklmnopqrstuvwxyz\n",
      "F fghijklmnopqrstuvwxyz\n",
      "G ghijklmnopqrstuvwxyz\n",
      "H hijklmnopqrstuvwxyz\n",
      "I ijklmnopqrstuvwxyz\n",
      "J jklmnopqrstuvwxyz\n",
      "K klmnopqrstuvwxyz\n",
      "L lmnopqrstuvwxyz\n",
      "M mnopqrstuvwxyz\n",
      "N nopqrstuvwxyz\n",
      "O opqrstuvwxyz\n",
      "P pqrstuvwxyz\n",
      "Q qrstuvwxyz\n",
      "R rstuvwxyz\n",
      "S stuvwxyz\n",
      "T tuvwxyz\n",
      "U uvwxyz\n",
      "V vwxyz\n",
      "W wxyz\n",
      "X xyz\n",
      "Y yz\n",
      "Z z\n"
     ]
    }
   ],
   "source": [
    "alphabet = \"abcdefghijklmnopqrstuvwxyz\"\n",
    "for i, letter in enumerate(alphabet):\n",
    "    print(letter.upper(), alphabet[i:])"
   ]
  },
  {
   "cell_type": "code",
   "execution_count": 32,
   "metadata": {},
   "outputs": [
    {
     "name": "stdout",
     "output_type": "stream",
     "text": [
      "abcdefghijklmnopqrstuvwxyz\n",
      "\n",
      "abcdefghijklmnopqrstuvwxy\n",
      "\n",
      "abcdefghijklmnopqrstuvwx\n",
      "\n",
      "abcdefghijklmnopqrstuvw\n",
      "\n",
      "abcdefghijklmnopqrstuv\n",
      "\n",
      "abcdefghijklmnopqrstu\n",
      "\n",
      "abcdefghijklmnopqrst\n",
      "\n",
      "abcdefghijklmnopqrs\n",
      "\n",
      "abcdefghijklmnopqr\n",
      "\n",
      "abcdefghijklmnopq\n",
      "\n",
      "abcdefghijklmnop\n",
      "\n",
      "abcdefghijklmno\n",
      "\n",
      "abcdefghijklmn\n",
      "\n",
      "abcdefghijklm\n",
      "\n",
      "abcdefghijkl\n",
      "\n",
      "abcdefghijk\n",
      "\n",
      "abcdefghij\n",
      "\n",
      "abcdefghi\n",
      "\n",
      "abcdefgh\n",
      "\n",
      "abcdefg\n",
      "\n",
      "abcdef\n",
      "\n",
      "abcde\n",
      "\n",
      "abcd\n",
      "\n",
      "abc\n",
      "\n",
      "ab\n",
      "\n",
      "a\n",
      "\n"
     ]
    }
   ],
   "source": [
    "alphabet = ['a','b','c','d','e','f','g','h','i','j','k','l','m','n','o','p','q','r','s','t','u','v','w','x','y','z']\n",
    "for k in range(len(alphabet)):\n",
    "        for j in range(len(alphabet)-k):\n",
    "            print(alphabet[j],end='')\n",
    "        print('\\n')"
   ]
  },
  {
   "cell_type": "code",
   "execution_count": 57,
   "metadata": {},
   "outputs": [],
   "source": []
  },
  {
   "cell_type": "code",
   "execution_count": 96,
   "metadata": {},
   "outputs": [],
   "source": []
  },
  {
   "cell_type": "code",
   "execution_count": 97,
   "metadata": {},
   "outputs": [],
   "source": []
  },
  {
   "cell_type": "code",
   "execution_count": 98,
   "metadata": {},
   "outputs": [
    {
     "name": "stdout",
     "output_type": "stream",
     "text": [
      "(0, 1)\n"
     ]
    }
   ],
   "source": []
  },
  {
   "cell_type": "code",
   "execution_count": null,
   "metadata": {},
   "outputs": [],
   "source": []
  }
 ],
 "metadata": {
  "kernelspec": {
   "display_name": "Python 3",
   "language": "python",
   "name": "python3"
  },
  "language_info": {
   "codemirror_mode": {
    "name": "ipython",
    "version": 3
   },
   "file_extension": ".py",
   "mimetype": "text/x-python",
   "name": "python",
   "nbconvert_exporter": "python",
   "pygments_lexer": "ipython3",
   "version": "3.6.5"
  }
 },
 "nbformat": 4,
 "nbformat_minor": 2
}
