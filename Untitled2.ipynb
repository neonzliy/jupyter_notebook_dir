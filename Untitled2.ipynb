{
 "cells": [
  {
   "cell_type": "code",
   "execution_count": 1,
   "metadata": {},
   "outputs": [],
   "source": [
    "import numpy as np\n",
    "import pandas as pd\n",
    "import scipy.stats as stats\n",
    "import matplotlib.pyplot as plt"
   ]
  },
  {
   "cell_type": "code",
   "execution_count": 2,
   "metadata": {},
   "outputs": [],
   "source": [
    "# @user credentials\n",
    "\n",
    "user='leon.zhao@offerupnow.com'\n",
    "password='Steel24ly@offerup'\n",
    "account='offerup'"
   ]
  },
  {
   "cell_type": "code",
   "execution_count": 3,
   "metadata": {},
   "outputs": [
    {
     "name": "stdout",
     "output_type": "stream",
     "text": [
      "> Connecting to Snowflake\n"
     ]
    }
   ],
   "source": [
    "import snowflake.connector\n",
    "\n",
    "class SnowflakeSession:\n",
    "\n",
    "    def __init__(self, user, password, account):\n",
    "\n",
    "        # Connect and get cursor\n",
    "        print(\"> Connecting to Snowflake\")\n",
    "        self.ctx = snowflake.connector.connect(user=user,\n",
    "                                                password=password,\n",
    "                                                account=account, )\n",
    "        self.cs = self.ctx.cursor()\n",
    "\n",
    "        # Set up cursor\n",
    "        self.cs.execute(\"use warehouse analytics_wh;\")\n",
    "        self.cs.execute(\"use role marketing;\")\n",
    "        self.cs.execute(\"Alter session set timezone = 'America/Los_Angeles';\") # for TZ aware fields\n",
    "\n",
    "    @staticmethod\n",
    "    def parse_query_file(sql_query_file):\n",
    "        \"\"\"Parse SQL file and return query as string.\"\"\"\n",
    "        \n",
    "        # Reading of the SQL statement from sql_query.txt file\n",
    "        print(\"> Reading SQL statement from file\")\n",
    "        fd = open(sql_query_file, 'r')\n",
    "        sqlFile = fd.read()\n",
    "        fd.close()\n",
    "\n",
    "        # Extraction of the SQL statement (split on ';')\n",
    "        # Get only the first statement.\n",
    "        sql_sentence_list = sqlFile.split(';')\n",
    "        sql_query = [x for x in sql_sentence_list if x][0]\n",
    "\n",
    "        return sql_query\n",
    "\n",
    "    def execute_query(self, qry):\n",
    "        print(\"> Querying database with:\")\n",
    "        print(qry)\n",
    "        print(\"\\n> Fetching data ...\")\n",
    "        self.cs.execute(qry)\n",
    "        colnames = [x[0] for x in self.cs.description]\n",
    "        rows = self.cs.fetchall()\n",
    "        return rows, colnames\n",
    "\n",
    "    @staticmethod\n",
    "    def result_to_df(rows, colnames):\n",
    "        print(\"> Saving to dataframe ...\")\n",
    "        df =  pd.DataFrame(rows, columns=colnames)\n",
    "        df.replace({r'\\r': ''}, regex=True, inplace=True)\n",
    "        return df\n",
    "\n",
    "\n",
    "    @staticmethod\n",
    "    def save_df_to_csv(df, fname):\n",
    "        print(\"\\n> Saving to file ...\")\n",
    "        if '.csv' in fname:\n",
    "            separator = ','\n",
    "        else:\n",
    "            separator = '\\t'\n",
    "        df.to_csv(fname, index=False, sep=separator, header=True, encoding='utf-8')\n",
    "\n",
    "    def close_session(self):\n",
    "        print(\"\\n> Closing session ...\")\n",
    "        self.cs.close()\n",
    "        self.ctx.close()\n",
    "        \n",
    "s = SnowflakeSession(user, password, account)"
   ]
  },
  {
   "cell_type": "code",
   "execution_count": 4,
   "metadata": {},
   "outputs": [
    {
     "name": "stdout",
     "output_type": "stream",
     "text": [
      "> Reading SQL statement from file\n",
      "select *\n",
      "from marketing.public.promoted_items\n",
      "\n",
      "> Querying database with:\n",
      "select *\n",
      "from marketing.public.promoted_items\n",
      "\n",
      "\n",
      "> Fetching data ...\n"
     ]
    }
   ],
   "source": [
    "sql = s.parse_query_file('/Users/leon.zhao/Desktop/SQL/promotion_stats')\n",
    "print(sql)\n",
    "rows, colnames = s.execute_query(sql)"
   ]
  },
  {
   "cell_type": "code",
   "execution_count": 5,
   "metadata": {},
   "outputs": [
    {
     "data": {
      "text/html": [
       "<div>\n",
       "<style scoped>\n",
       "    .dataframe tbody tr th:only-of-type {\n",
       "        vertical-align: middle;\n",
       "    }\n",
       "\n",
       "    .dataframe tbody tr th {\n",
       "        vertical-align: top;\n",
       "    }\n",
       "\n",
       "    .dataframe thead th {\n",
       "        text-align: right;\n",
       "    }\n",
       "</style>\n",
       "<table border=\"1\" class=\"dataframe\">\n",
       "  <thead>\n",
       "    <tr style=\"text-align: right;\">\n",
       "      <th></th>\n",
       "      <th>OWNER_ID</th>\n",
       "      <th>IS_SOFTBLOCKED</th>\n",
       "      <th>CAMPAIGN_ID</th>\n",
       "      <th>ITEM_DMA</th>\n",
       "      <th>CATEGORY</th>\n",
       "      <th>ITEM_PRICE</th>\n",
       "      <th>CREATION_TIME</th>\n",
       "      <th>ITEM_ID</th>\n",
       "      <th>START_TIME</th>\n",
       "      <th>END_TIME</th>\n",
       "      <th>PROMOTION_LENGTH</th>\n",
       "      <th>PROMO_NUM</th>\n",
       "      <th>PROMOTION_REASON</th>\n",
       "    </tr>\n",
       "  </thead>\n",
       "  <tbody>\n",
       "    <tr>\n",
       "      <th>0</th>\n",
       "      <td>40539172</td>\n",
       "      <td>0</td>\n",
       "      <td>03a6e180-34e2-4f51-8e31-acb934c1ff56</td>\n",
       "      <td>Los Angeles, CA</td>\n",
       "      <td>Clothing &amp; Shoes</td>\n",
       "      <td>15.00</td>\n",
       "      <td>2019-01-30 19:16:08.705</td>\n",
       "      <td>620860972</td>\n",
       "      <td>2019-01-30 19:16:08</td>\n",
       "      <td>2019-01-30 19:16:25.024</td>\n",
       "      <td>17</td>\n",
       "      <td>1</td>\n",
       "      <td>subscription</td>\n",
       "    </tr>\n",
       "    <tr>\n",
       "      <th>1</th>\n",
       "      <td>40028718</td>\n",
       "      <td>0</td>\n",
       "      <td>8afe8469-eb46-4ea0-b7e1-f31c08645029</td>\n",
       "      <td>Seattle-Tacoma, WA</td>\n",
       "      <td>Motorcycles</td>\n",
       "      <td>3000.00</td>\n",
       "      <td>2018-05-17 20:51:10.741</td>\n",
       "      <td>477682375</td>\n",
       "      <td>2018-05-17 20:51:10</td>\n",
       "      <td>2018-05-24 20:51:10.000</td>\n",
       "      <td>604800</td>\n",
       "      <td>1</td>\n",
       "      <td>Ala Carte</td>\n",
       "    </tr>\n",
       "    <tr>\n",
       "      <th>2</th>\n",
       "      <td>32830720</td>\n",
       "      <td>0</td>\n",
       "      <td>25528799-7093-4239-a895-e582818d5125</td>\n",
       "      <td>Miami-Fort Lauderdale, FL</td>\n",
       "      <td>Furniture</td>\n",
       "      <td>50.00</td>\n",
       "      <td>2018-05-16 02:10:44.802</td>\n",
       "      <td>473730568</td>\n",
       "      <td>2018-05-16 02:10:44</td>\n",
       "      <td>2018-05-19 02:10:44.000</td>\n",
       "      <td>259200</td>\n",
       "      <td>1</td>\n",
       "      <td>Ala Carte</td>\n",
       "    </tr>\n",
       "    <tr>\n",
       "      <th>3</th>\n",
       "      <td>45642486</td>\n",
       "      <td>0</td>\n",
       "      <td>46a5e6a2-a152-40c2-a281-844e45108d8e</td>\n",
       "      <td>Raleigh-Durham (Fayetteville), NC</td>\n",
       "      <td>Auto Parts</td>\n",
       "      <td>40.00</td>\n",
       "      <td>2019-03-22 19:05:57.449</td>\n",
       "      <td>642452484</td>\n",
       "      <td>2019-03-22 19:05:57</td>\n",
       "      <td>2019-03-22 20:44:01.320</td>\n",
       "      <td>5884</td>\n",
       "      <td>1</td>\n",
       "      <td>subscription</td>\n",
       "    </tr>\n",
       "    <tr>\n",
       "      <th>4</th>\n",
       "      <td>38808341</td>\n",
       "      <td>0</td>\n",
       "      <td>c8492122-9b8b-498d-9712-183cebeccb3d</td>\n",
       "      <td>Dallas-Ft. Worth, TX</td>\n",
       "      <td>Electronics</td>\n",
       "      <td>150.00</td>\n",
       "      <td>2018-10-23 20:41:28.787</td>\n",
       "      <td>549603671</td>\n",
       "      <td>2018-10-23 20:41:28</td>\n",
       "      <td>2018-11-24 20:41:28.000</td>\n",
       "      <td>2764800</td>\n",
       "      <td>1</td>\n",
       "      <td>subscription</td>\n",
       "    </tr>\n",
       "  </tbody>\n",
       "</table>\n",
       "</div>"
      ],
      "text/plain": [
       "   OWNER_ID  IS_SOFTBLOCKED                           CAMPAIGN_ID  \\\n",
       "0  40539172               0  03a6e180-34e2-4f51-8e31-acb934c1ff56   \n",
       "1  40028718               0  8afe8469-eb46-4ea0-b7e1-f31c08645029   \n",
       "2  32830720               0  25528799-7093-4239-a895-e582818d5125   \n",
       "3  45642486               0  46a5e6a2-a152-40c2-a281-844e45108d8e   \n",
       "4  38808341               0  c8492122-9b8b-498d-9712-183cebeccb3d   \n",
       "\n",
       "                            ITEM_DMA          CATEGORY ITEM_PRICE  \\\n",
       "0                    Los Angeles, CA  Clothing & Shoes      15.00   \n",
       "1                 Seattle-Tacoma, WA       Motorcycles    3000.00   \n",
       "2          Miami-Fort Lauderdale, FL         Furniture      50.00   \n",
       "3  Raleigh-Durham (Fayetteville), NC        Auto Parts      40.00   \n",
       "4               Dallas-Ft. Worth, TX       Electronics     150.00   \n",
       "\n",
       "            CREATION_TIME    ITEM_ID          START_TIME  \\\n",
       "0 2019-01-30 19:16:08.705  620860972 2019-01-30 19:16:08   \n",
       "1 2018-05-17 20:51:10.741  477682375 2018-05-17 20:51:10   \n",
       "2 2018-05-16 02:10:44.802  473730568 2018-05-16 02:10:44   \n",
       "3 2019-03-22 19:05:57.449  642452484 2019-03-22 19:05:57   \n",
       "4 2018-10-23 20:41:28.787  549603671 2018-10-23 20:41:28   \n",
       "\n",
       "                 END_TIME  PROMOTION_LENGTH  PROMO_NUM PROMOTION_REASON  \n",
       "0 2019-01-30 19:16:25.024                17          1     subscription  \n",
       "1 2018-05-24 20:51:10.000            604800          1        Ala Carte  \n",
       "2 2018-05-19 02:10:44.000            259200          1        Ala Carte  \n",
       "3 2019-03-22 20:44:01.320              5884          1     subscription  \n",
       "4 2018-11-24 20:41:28.000           2764800          1     subscription  "
      ]
     },
     "execution_count": 5,
     "metadata": {},
     "output_type": "execute_result"
    }
   ],
   "source": [
    "df = pd.DataFrame(data = rows, columns = colnames)\n",
    "df.head()"
   ]
  },
  {
   "cell_type": "code",
   "execution_count": 40,
   "metadata": {},
   "outputs": [
    {
     "data": {
      "text/plain": [
       "(71.0, 2.0016666666666665, 72.0)"
      ]
     },
     "execution_count": 40,
     "metadata": {},
     "output_type": "execute_result"
    }
   ],
   "source": [
    "mean = np.percentile(df['PROMOTION_LENGTH'], 50)\n",
    "low = np.percentile(df['PROMOTION_LENGTH'], 25)\n",
    "high = np.percentile(df['PROMOTION_LENGTH'], 75)\n",
    "\n",
    "mean/60/60, low/60/60, high/60/60"
   ]
  },
  {
   "cell_type": "code",
   "execution_count": 49,
   "metadata": {},
   "outputs": [
    {
     "data": {
      "text/plain": [
       "count    3.226361e+06\n",
       "mean     7.720387e+01\n",
       "std      1.323582e+02\n",
       "min      0.000000e+00\n",
       "25%      2.000000e+00\n",
       "50%      7.100000e+01\n",
       "75%      7.200000e+01\n",
       "max      7.740000e+02\n",
       "Name: PROMOTION_LENGTH, dtype: float64"
      ]
     },
     "execution_count": 49,
     "metadata": {},
     "output_type": "execute_result"
    }
   ],
   "source": [
    "promo_len_hr = round(df['PROMOTION_LENGTH']/60/60, 2).sort_values()\n",
    "promo_len_hr.describe()"
   ]
  },
  {
   "cell_type": "code",
   "execution_count": 30,
   "metadata": {},
   "outputs": [
    {
     "data": {
      "image/png": "[encoded data removed]",
      "text/plain": [
       "<Figure size 432x288 with 1 Axes>"
      ]
     },
     "metadata": {
      "needs_background": "light"
     },
     "output_type": "display_data"
    }
   ],
   "source": [
    "plt.hist(promo_len_hr, bins=np.arange(min(promo_len_hr)+1, max(promo_len_hr) + 1, 1), density = True)\n",
    "# plt.plot(x,y_pdf, label='PDF')\n",
    "plt.xlabel('Promotion Length')\n",
    "plt.ylabel('Frequency')\n",
    "plt.title(r'Promotion length in hours')\n",
    "plt.show()"
   ]
  },
  {
   "cell_type": "code",
   "execution_count": 34,
   "metadata": {},
   "outputs": [
    {
     "data": {
      "text/plain": [
       "78.20387469970035"
      ]
     },
     "execution_count": 34,
     "metadata": {},
     "output_type": "execute_result"
    }
   ],
   "source": [
    "promo_len_hr.mean() + 1"
   ]
  },
  {
   "cell_type": "code",
   "execution_count": 13,
   "metadata": {},
   "outputs": [],
   "source": [
    "plt.show()"
   ]
  },
  {
   "cell_type": "code",
   "execution_count": 40,
   "metadata": {},
   "outputs": [
    {
     "data": {
      "text/plain": [
       "2.0"
      ]
     },
     "execution_count": 40,
     "metadata": {},
     "output_type": "execute_result"
    }
   ],
   "source": [
    "x.median()\n",
    "x.mean()\n",
    "x.mode()"
   ]
  },
  {
   "cell_type": "code",
   "execution_count": 14,
   "metadata": {},
   "outputs": [],
   "source": [
    "df2 = x.sort_values(ascending = True)"
   ]
  },
  {
   "cell_type": "code",
   "execution_count": 15,
   "metadata": {},
   "outputs": [
    {
     "data": {
      "text/plain": [
       "USER_ID\n",
       "14119771    1.0\n",
       "45372703    1.0\n",
       "29252277    1.0\n",
       "40983717    1.0\n",
       "46364867    1.0\n",
       "Name: AVG_ACTIVE_LISTINGS, dtype: float64"
      ]
     },
     "execution_count": 15,
     "metadata": {},
     "output_type": "execute_result"
    }
   ],
   "source": [
    "df2.head()"
   ]
  },
  {
   "cell_type": "code",
   "execution_count": null,
   "metadata": {},
   "outputs": [],
   "source": []
  }
 ],
 "metadata": {
  "kernelspec": {
   "display_name": "Python 3",
   "language": "python",
   "name": "python3"
  },
  "language_info": {
   "codemirror_mode": {
    "name": "ipython",
    "version": 3
   },
   "file_extension": ".py",
   "mimetype": "text/x-python",
   "name": "python",
   "nbconvert_exporter": "python",
   "pygments_lexer": "ipython3",
   "version": "3.6.5"
  }
 },
 "nbformat": 4,
 "nbformat_minor": 2
}
