{
 "cells": [
  {
   "cell_type": "code",
   "execution_count": 1,
   "metadata": {},
   "outputs": [
    {
     "name": "stdout",
     "output_type": "stream",
     "text": [
      "Collecting dill==0.2.7.1\n",
      "\u001b[?25l  Downloading https://files.pythonhosted.org/packages/91/a0/19d4d31dee064fc553ae01263b5c55e7fb93daff03a69debbedee647c5a0/dill-0.2.7.1.tar.gz (64kB)\n",
      "\u001b[K    100% |████████████████████████████████| 71kB 389kB/s ta 0:00:01\n",
      "\u001b[?25hInstalling collected packages: dill\n",
      "  Running setup.py install for dill ... \u001b[?25ldone\n",
      "\u001b[?25hSuccessfully installed dill-0.2.7.1\n"
     ]
    }
   ],
   "source": [
    "!pip install dill==0.2.7.1"
   ]
  },
  {
   "cell_type": "code",
   "execution_count": 2,
   "metadata": {
    "scrolled": true
   },
   "outputs": [
    {
     "name": "stdout",
     "output_type": "stream",
     "text": [
      "Collecting gensim==3.0.1\n",
      "\u001b[?25l  Downloading https://files.pythonhosted.org/packages/5d/af/a57bff8e588698ffd486f620521562d5c7952f260ba2e535d24fe00ee5ac/gensim-3.0.1-cp36-cp36m-macosx_10_6_intel.macosx_10_9_intel.macosx_10_9_x86_64.macosx_10_10_intel.macosx_10_10_x86_64.whl (13.1MB)\n",
      "\u001b[K    100% |████████████████████████████████| 13.1MB 1.8MB/s ta 0:00:011\n",
      "\u001b[?25hCollecting smart-open>=1.2.1 (from gensim==3.0.1)\n",
      "  Downloading https://files.pythonhosted.org/packages/4b/1f/6f27e3682124de63ac97a0a5876da6186de6c19410feab66c1543afab055/smart_open-1.7.1.tar.gz\n",
      "Requirement already satisfied: numpy>=1.11.3 in /Users/leon.zhao/Documents/Work/py3venv/lib/python3.6/site-packages (from gensim==3.0.1) (1.15.2)\n",
      "Requirement already satisfied: six>=1.5.0 in /Users/leon.zhao/Documents/Work/py3venv/lib/python3.6/site-packages (from gensim==3.0.1) (1.11.0)\n",
      "Requirement already satisfied: scipy>=0.18.1 in /Users/leon.zhao/Documents/Work/py3venv/lib/python3.6/site-packages (from gensim==3.0.1) (1.1.0)\n",
      "Collecting boto>=2.32 (from smart-open>=1.2.1->gensim==3.0.1)\n",
      "\u001b[?25l  Downloading https://files.pythonhosted.org/packages/23/10/c0b78c27298029e4454a472a1919bde20cb182dab1662cec7f2ca1dcc523/boto-2.49.0-py2.py3-none-any.whl (1.4MB)\n",
      "\u001b[K    100% |████████████████████████████████| 1.4MB 1.5MB/s eta 0:00:01\n",
      "\u001b[?25hCollecting bz2file (from smart-open>=1.2.1->gensim==3.0.1)\n",
      "  Downloading https://files.pythonhosted.org/packages/61/39/122222b5e85cd41c391b68a99ee296584b2a2d1d233e7ee32b4532384f2d/bz2file-0.98.tar.gz\n",
      "Requirement already satisfied: requests in /Users/leon.zhao/Documents/Work/py3venv/lib/python3.6/site-packages (from smart-open>=1.2.1->gensim==3.0.1) (2.19.1)\n",
      "Collecting boto3 (from smart-open>=1.2.1->gensim==3.0.1)\n",
      "\u001b[?25l  Downloading https://files.pythonhosted.org/packages/7a/7e/fe8faa29e771a09c528ee70e1fd9b317006021c48311ecccc78c22ebe739/boto3-1.9.37-py2.py3-none-any.whl (128kB)\n",
      "\u001b[K    100% |████████████████████████████████| 133kB 6.9MB/s eta 0:00:01\n",
      "\u001b[?25hRequirement already satisfied: certifi>=2017.4.17 in /Users/leon.zhao/Documents/Work/py3venv/lib/python3.6/site-packages (from requests->smart-open>=1.2.1->gensim==3.0.1) (2018.8.24)\n",
      "Requirement already satisfied: urllib3<1.24,>=1.21.1 in /Users/leon.zhao/Documents/Work/py3venv/lib/python3.6/site-packages (from requests->smart-open>=1.2.1->gensim==3.0.1) (1.23)\n",
      "Requirement already satisfied: chardet<3.1.0,>=3.0.2 in /Users/leon.zhao/Documents/Work/py3venv/lib/python3.6/site-packages (from requests->smart-open>=1.2.1->gensim==3.0.1) (3.0.4)\n",
      "Requirement already satisfied: idna<2.8,>=2.5 in /Users/leon.zhao/Documents/Work/py3venv/lib/python3.6/site-packages (from requests->smart-open>=1.2.1->gensim==3.0.1) (2.7)\n",
      "Collecting s3transfer<0.2.0,>=0.1.10 (from boto3->smart-open>=1.2.1->gensim==3.0.1)\n",
      "\u001b[?25l  Downloading https://files.pythonhosted.org/packages/d7/14/2a0004d487464d120c9fb85313a75cd3d71a7506955be458eebfe19a6b1d/s3transfer-0.1.13-py2.py3-none-any.whl (59kB)\n",
      "\u001b[K    100% |████████████████████████████████| 61kB 10.8MB/s ta 0:00:01\n",
      "\u001b[?25hCollecting botocore<1.13.0,>=1.12.37 (from boto3->smart-open>=1.2.1->gensim==3.0.1)\n",
      "\u001b[?25l  Downloading https://files.pythonhosted.org/packages/d0/35/1461771f778b67984a75a9853a2b3ed25e65a4345e669a81b50c67c930ab/botocore-1.12.37-py2.py3-none-any.whl (4.7MB)\n",
      "\u001b[K    100% |████████████████████████████████| 4.7MB 4.7MB/s eta 0:00:01    88% |████████████████████████████▏   | 4.2MB 33.2MB/s eta 0:00:01\n",
      "\u001b[?25hCollecting jmespath<1.0.0,>=0.7.1 (from boto3->smart-open>=1.2.1->gensim==3.0.1)\n",
      "  Downloading https://files.pythonhosted.org/packages/b7/31/05c8d001f7f87f0f07289a5fc0fc3832e9a57f2dbd4d3b0fee70e0d51365/jmespath-0.9.3-py2.py3-none-any.whl\n",
      "Requirement already satisfied: python-dateutil<3.0.0,>=2.1; python_version >= \"2.7\" in /Users/leon.zhao/Documents/Work/py3venv/lib/python3.6/site-packages (from botocore<1.13.0,>=1.12.37->boto3->smart-open>=1.2.1->gensim==3.0.1) (2.7.3)\n",
      "Collecting docutils>=0.10 (from botocore<1.13.0,>=1.12.37->boto3->smart-open>=1.2.1->gensim==3.0.1)\n",
      "\u001b[?25l  Downloading https://files.pythonhosted.org/packages/36/fa/08e9e6e0e3cbd1d362c3bbee8d01d0aedb2155c4ac112b19ef3cae8eed8d/docutils-0.14-py3-none-any.whl (543kB)\n",
      "\u001b[K    100% |████████████████████████████████| 552kB 1.1MB/s ta 0:00:011\n",
      "\u001b[?25hInstalling collected packages: boto, bz2file, jmespath, docutils, botocore, s3transfer, boto3, smart-open, gensim\n",
      "  Running setup.py install for bz2file ... \u001b[?25ldone\n",
      "\u001b[?25h  Running setup.py install for smart-open ... \u001b[?25ldone\n",
      "\u001b[?25hSuccessfully installed boto-2.49.0 boto3-1.9.37 botocore-1.12.37 bz2file-0.98 docutils-0.14 gensim-3.0.1 jmespath-0.9.3 s3transfer-0.1.13 smart-open-1.7.1\n"
     ]
    }
   ],
   "source": [
    "!pip install gensim==3.0.1"
   ]
  },
  {
   "cell_type": "code",
   "execution_count": 3,
   "metadata": {},
   "outputs": [],
   "source": [
    "import dill\n",
    "import gensim\n",
    "import numpy as np"
   ]
  },
  {
   "cell_type": "code",
   "execution_count": 4,
   "metadata": {},
   "outputs": [
    {
     "ename": "FileNotFoundError",
     "evalue": "[Errno 2] No such file or directory: 'item2vec20180608.dill'",
     "output_type": "error",
     "traceback": [
      "\u001b[0;31m---------------------------------------------------------------------------\u001b[0m",
      "\u001b[0;31mFileNotFoundError\u001b[0m                         Traceback (most recent call last)",
      "\u001b[0;32m<ipython-input-4-08824b90efd0>\u001b[0m in \u001b[0;36m<module>\u001b[0;34m()\u001b[0m\n\u001b[0;32m----> 1\u001b[0;31m \u001b[0mitem2vec\u001b[0m \u001b[0;34m=\u001b[0m \u001b[0mdill\u001b[0m\u001b[0;34m.\u001b[0m\u001b[0mload\u001b[0m\u001b[0;34m(\u001b[0m \u001b[0mopen\u001b[0m\u001b[0;34m(\u001b[0m \u001b[0;34m\"item2vec20180608.dill\"\u001b[0m\u001b[0;34m,\u001b[0m \u001b[0;34m\"rb\"\u001b[0m \u001b[0;34m)\u001b[0m \u001b[0;34m)\u001b[0m\u001b[0;34m\u001b[0m\u001b[0m\n\u001b[0m",
      "\u001b[0;31mFileNotFoundError\u001b[0m: [Errno 2] No such file or directory: 'item2vec20180608.dill'"
     ]
    }
   ],
   "source": [
    "item2vec = dill.load( open( \"item2vec20180608.dill\", \"rb\" ) )"
   ]
  },
  {
   "cell_type": "code",
   "execution_count": 5,
   "metadata": {},
   "outputs": [
    {
     "ename": "NameError",
     "evalue": "name 'item2vec' is not defined",
     "output_type": "error",
     "traceback": [
      "\u001b[0;31m---------------------------------------------------------------------------\u001b[0m",
      "\u001b[0;31mNameError\u001b[0m                                 Traceback (most recent call last)",
      "\u001b[0;32m<ipython-input-5-9c6489512e0a>\u001b[0m in \u001b[0;36m<module>\u001b[0;34m()\u001b[0m\n\u001b[0;32m----> 1\u001b[0;31m \u001b[0mitem2vec\u001b[0m\u001b[0;34m.\u001b[0m\u001b[0mpredict\u001b[0m\u001b[0;34m(\u001b[0m\u001b[0;34m\"iphone 6s\"\u001b[0m\u001b[0;34m)\u001b[0m\u001b[0;34m\u001b[0m\u001b[0m\n\u001b[0m",
      "\u001b[0;31mNameError\u001b[0m: name 'item2vec' is not defined"
     ]
    }
   ],
   "source": [
    "item2vec.predict(\"iphone 6s\")"
   ]
  },
  {
   "cell_type": "code",
   "execution_count": null,
   "metadata": {},
   "outputs": [],
   "source": []
  }
 ],
 "metadata": {
  "kernelspec": {
   "display_name": "Python 3",
   "language": "python",
   "name": "python3"
  },
  "language_info": {
   "codemirror_mode": {
    "name": "ipython",
    "version": 3
   },
   "file_extension": ".py",
   "mimetype": "text/x-python",
   "name": "python",
   "nbconvert_exporter": "python",
   "pygments_lexer": "ipython3",
   "version": "3.6.5"
  }
 },
 "nbformat": 4,
 "nbformat_minor": 2
}
