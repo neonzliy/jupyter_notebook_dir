{
 "cells": [
  {
   "cell_type": "code",
   "execution_count": 1,
   "metadata": {},
   "outputs": [
    {
     "ename": "ModuleNotFoundError",
     "evalue": "No module named 'sqlalchemy'",
     "output_type": "error",
     "traceback": [
      "\u001b[0;31m---------------------------------------------------------------------------\u001b[0m",
      "\u001b[0;31mModuleNotFoundError\u001b[0m                       Traceback (most recent call last)",
      "\u001b[0;32m<ipython-input-1-559c0ba31fe8>\u001b[0m in \u001b[0;36m<module>\u001b[0;34m()\u001b[0m\n\u001b[1;32m      1\u001b[0m \u001b[0;31m# !pip install snowflake-connector-python\u001b[0m\u001b[0;34m\u001b[0m\u001b[0;34m\u001b[0m\u001b[0m\n\u001b[1;32m      2\u001b[0m \u001b[0;31m# !pip install snowflake-sqlalchemy\u001b[0m\u001b[0;34m\u001b[0m\u001b[0;34m\u001b[0m\u001b[0m\n\u001b[0;32m----> 3\u001b[0;31m \u001b[0;32mfrom\u001b[0m \u001b[0msqlalchemy\u001b[0m \u001b[0;32mimport\u001b[0m \u001b[0mcreate_engine\u001b[0m\u001b[0;34m\u001b[0m\u001b[0m\n\u001b[0m\u001b[1;32m      4\u001b[0m \u001b[0;32mimport\u001b[0m \u001b[0mpandas\u001b[0m \u001b[0;32mas\u001b[0m \u001b[0mpd\u001b[0m\u001b[0;34m\u001b[0m\u001b[0m\n\u001b[1;32m      5\u001b[0m \u001b[0;32mimport\u001b[0m \u001b[0mgensim\u001b[0m\u001b[0;34m\u001b[0m\u001b[0m\n",
      "\u001b[0;31mModuleNotFoundError\u001b[0m: No module named 'sqlalchemy'"
     ]
    }
   ],
   "source": [
    "# !pip install snowflake-connector-python\n",
    "# !pip install snowflake-sqlalchemy\n",
    "from sqlalchemy import create_engine\n",
    "import pandas as pd\n",
    "import gensim\n",
    "import re\n",
    "from gensim.models.phrases import Phrases, Phraser\n",
    "import numpy as np"
   ]
  },
  {
   "cell_type": "code",
   "execution_count": 2,
   "metadata": {},
   "outputs": [
    {
     "ename": "NameError",
     "evalue": "name 'create_engine' is not defined",
     "output_type": "error",
     "traceback": [
      "\u001b[0;31m---------------------------------------------------------------------------\u001b[0m",
      "\u001b[0;31mNameError\u001b[0m                                 Traceback (most recent call last)",
      "\u001b[0;32m<ipython-input-2-ae646295dcb6>\u001b[0m in \u001b[0;36m<module>\u001b[0;34m()\u001b[0m\n\u001b[0;32m----> 1\u001b[0;31m ENGINE = create_engine(\n\u001b[0m\u001b[1;32m      2\u001b[0m     'snowflake://{user}:{password}@{account}/'.format(\n\u001b[1;32m      3\u001b[0m         \u001b[0muser\u001b[0m\u001b[0;34m=\u001b[0m\u001b[0;34m'eric.clausenbrown@offerupnow.com'\u001b[0m\u001b[0;34m,\u001b[0m\u001b[0;34m\u001b[0m\u001b[0m\n\u001b[1;32m      4\u001b[0m         \u001b[0mpassword\u001b[0m\u001b[0;34m=\u001b[0m\u001b[0;34m'1GreatDay!'\u001b[0m\u001b[0;34m,\u001b[0m\u001b[0;34m\u001b[0m\u001b[0m\n\u001b[1;32m      5\u001b[0m         \u001b[0maccount\u001b[0m\u001b[0;34m=\u001b[0m\u001b[0;34m'offerup'\u001b[0m\u001b[0;34m,\u001b[0m\u001b[0;34m\u001b[0m\u001b[0m\n",
      "\u001b[0;31mNameError\u001b[0m: name 'create_engine' is not defined"
     ]
    }
   ],
   "source": [
    "ENGINE = create_engine(\n",
    "    'snowflake://{user}:{password}@{account}/'.format(\n",
    "        user='eric.clausenbrown@offerupnow.com',\n",
    "        password='1GreatDay!',\n",
    "        account='offerup',\n",
    "    ),\n",
    ")"
   ]
  },
  {
   "cell_type": "code",
   "execution_count": null,
   "metadata": {},
   "outputs": [],
   "source": [
    "sql2 = \"\"\"\n",
    "with myviews_raw_0 as (\n",
    "select s.header_user_id, date_trunc(day, s.header_timestamp) as timebin, \n",
    "  array_to_string(split(substring(trim(lower(s.query)),0,30), ' '), '_') as concat_keyword_query, \n",
    "  substring(trim(lower(s.query)),0,30) as keyword_query\n",
    "  from events_prod.public.materialized_search_performed_event s\n",
    "  where s.results_requested_start_index=0\n",
    "  and s.header_timestamp > '2018-06-15'\n",
    "  and s.header_timestamp < '2018-07-05'\n",
    "  and length(s.query)>0\n",
    "  and s.header_user_id != 0\n",
    "  //group by iv.header_user_id, hour_ts having count(distinct iv.item_id) >= 20 and count(distinct iv.item_id) <= 100\n",
    "),\n",
    "myviews_raw as (\n",
    "  select distinct header_user_id, timebin, concat_keyword_query, keyword_query\n",
    "  from myviews_raw_0\n",
    "),\n",
    "myviews as (\n",
    "select header_user_id, timebin\n",
    "  from myviews_raw\n",
    "  group by header_user_id, timebin having count(distinct concat_keyword_query) >= 5 and count(distinct concat_keyword_query) <= 50\n",
    ")\n",
    "select mr.header_user_id, mr.timebin, listagg(mr.keyword_query, ' ') as query_cat, listagg(concat_keyword_query, ' ') as whole_query_cat,\n",
    "  count(*) as nitems\n",
    "  from myviews_raw mr\n",
    "  join myviews m on m.header_user_id = mr.header_user_id\n",
    "  and m.timebin = mr.timebin\n",
    "  group by mr.header_user_id, mr.timebin\n",
    "  order by mr.header_user_id, mr.timebin;\n",
    "\"\"\""
   ]
  },
  {
   "cell_type": "code",
   "execution_count": null,
   "metadata": {},
   "outputs": [],
   "source": [
    "def run_query(sql, engine=ENGINE):\n",
    "    print(sql)\n",
    "    try:\n",
    "        engine.execute(\"use warehouse analytics_wh;\")\n",
    "        #engine.execute(\"use database analytics;\")\n",
    "        #engine.execute(\"use schema ebay_scam;\")\n",
    "        engine.execute(\"use role data_science;\")\n",
    "        df = pd.read_sql(sql, engine)\n",
    "    finally:\n",
    "        engine.dispose()\n",
    "    return df"
   ]
  },
  {
   "cell_type": "code",
   "execution_count": null,
   "metadata": {},
   "outputs": [],
   "source": [
    "df = run_query(sql2)"
   ]
  },
  {
   "cell_type": "code",
   "execution_count": null,
   "metadata": {},
   "outputs": [],
   "source": [
    "class Item2Vec(object):\n",
    "    \n",
    "    def __init__(self, documents, token_pattern=r\"(?u)\\b\\w+\\b\"):\n",
    "        self.tokenizer = re.compile(token_pattern)\n",
    "        documents0 = [self.tokenizer.findall(x.lower()) for x in documents]\n",
    "        phrases = Phrases(iter(documents0), min_count=5, threshold=10)  # train phrase model\n",
    "        self.bigrams = Phraser(phrases)\n",
    "        documents = [self.bigrams[x] for x in documents0]\n",
    "        #iter_obj = self.inter_obj(docs)\n",
    "        \n",
    "        self.model = gensim.models.Word2Vec(documents, min_count=10, sg=0, iter=50)\n",
    "        \n",
    "#     def inter_obj(self, docs):\n",
    "#         for doc in docs:\n",
    "#             yield doc\n",
    "            \n",
    "            \n",
    "#     def item_vector(self, mystr):\n",
    "#         words = self.tokenizer.findall(mystr.lower())\n",
    "#         word_phrases = self.bigrams[words]\n",
    "#         ret = np.zeros(self.model.vector_size)\n",
    "#         n = 0\n",
    "#         for phrase in word_phrases[1:]:\n",
    "#             try:\n",
    "#                 ret = ret + self.model.wv[phrase]\n",
    "#                 n += 1\n",
    "#             except:\n",
    "#                 continue\n",
    "#         return ret/float(n)\n",
    "    \n",
    "    def predict(self, text):\n",
    "       # def item_vector(mystr, w2v):\n",
    "        words = self.tokenizer.findall(text.lower())\n",
    "        word_phrases = self.bigrams[words]\n",
    "        ret = np.zeros(self.model.vector_size)\n",
    "        n = 0\n",
    "        for phrase in word_phrases:\n",
    "            try:\n",
    "                ret = ret + self.model.wv[phrase]\n",
    "                n += 1\n",
    "            except:\n",
    "                continue\n",
    "        return ret/float(n)\n",
    "        "
   ]
  },
  {
   "cell_type": "code",
   "execution_count": null,
   "metadata": {},
   "outputs": [],
   "source": [
    "titles = df.query_cat.values"
   ]
  },
  {
   "cell_type": "code",
   "execution_count": null,
   "metadata": {},
   "outputs": [],
   "source": [
    "item2vec = Item2Vec(documents=titles)"
   ]
  },
  {
   "cell_type": "code",
   "execution_count": null,
   "metadata": {},
   "outputs": [],
   "source": [
    "item2vec.predict(\"iphone 6s\")"
   ]
  }
 ],
 "metadata": {
  "kernelspec": {
   "display_name": "Python 3",
   "language": "python",
   "name": "python3"
  },
  "language_info": {
   "codemirror_mode": {
    "name": "ipython",
    "version": 3
   },
   "file_extension": ".py",
   "mimetype": "text/x-python",
   "name": "python",
   "nbconvert_exporter": "python",
   "pygments_lexer": "ipython3",
   "version": "3.6.5"
  }
 },
 "nbformat": 4,
 "nbformat_minor": 2
}
