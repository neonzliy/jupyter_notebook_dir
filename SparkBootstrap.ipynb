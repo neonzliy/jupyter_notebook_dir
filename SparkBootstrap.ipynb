{
 "cells": [
  {
   "cell_type": "markdown",
   "metadata": {},
   "source": [
    "# Set up notebook"
   ]
  },
  {
   "cell_type": "code",
   "execution_count": 1,
   "metadata": {
    "collapsed": true
   },
   "outputs": [],
   "source": [
    "import findspark\n",
    "findspark.init()"
   ]
  },
  {
   "cell_type": "code",
   "execution_count": 2,
   "metadata": {
    "collapsed": true,
    "scrolled": true
   },
   "outputs": [],
   "source": [
    "import pyspark\n",
    "from pyspark.sql import functions"
   ]
  },
  {
   "cell_type": "code",
   "execution_count": 3,
   "metadata": {},
   "outputs": [],
   "source": [
    "import numpy as np\n",
    "import pandas as pd\n",
    "import matplotlib.pyplot as plt"
   ]
  },
  {
   "cell_type": "code",
   "execution_count": 4,
   "metadata": {},
   "outputs": [],
   "source": [
    "sc = pyspark.SparkContext(appName=\"bootstrap\")"
   ]
  },
  {
   "cell_type": "code",
   "execution_count": 5,
   "metadata": {},
   "outputs": [],
   "source": [
    "sqlCtx = pyspark.SQLContext(sc)"
   ]
  },
  {
   "cell_type": "markdown",
   "metadata": {},
   "source": [
    "# Create Toy Dataset"
   ]
  },
  {
   "cell_type": "code",
   "execution_count": 13,
   "metadata": {},
   "outputs": [],
   "source": [
    "dist, n = [], 10000000\n",
    "for i in range(n):\n",
    "    dist.append(np.random.poisson())\n",
    "\n",
    "test_fraction = 0.3\n",
    "test = np.random.poisson(lam=0.8, size=int(n*test_fraction)) * 1.0\n",
    "ctrl = np.random.poisson(lam=0.75, size=int(n*(1-test_fraction))) * 1.0"
   ]
  },
  {
   "cell_type": "code",
   "execution_count": 7,
   "metadata": {},
   "outputs": [
    {
     "data": {
      "image/png": "[encoded data removed]",
      "text/plain": [
       "<Figure size 432x288 with 1 Axes>"
      ]
     },
     "metadata": {
      "needs_background": "light"
     },
     "output_type": "display_data"
    }
   ],
   "source": [
    "plt.hist(ctrl,label='Control')\n",
    "plt.hist(test, label='Test', color='orange')\n",
    "plt.title('Test/Ctrl Data')\n",
    "plt.legend()\n",
    "plt.show()"
   ]
  },
  {
   "cell_type": "code",
   "execution_count": 17,
   "metadata": {},
   "outputs": [
    {
     "data": {
      "text/plain": [
       "(array([7.355798e+06, 1.840303e+06, 6.141510e+05, 1.531260e+05,\n",
       "        3.065800e+04, 5.115000e+03, 7.460000e+02, 8.700000e+01,\n",
       "        1.300000e+01, 3.000000e+00]),\n",
       " array([ 0. ,  1.1,  2.2,  3.3,  4.4,  5.5,  6.6,  7.7,  8.8,  9.9, 11. ]),\n",
       " <a list of 10 Patch objects>)"
      ]
     },
     "execution_count": 17,
     "metadata": {},
     "output_type": "execute_result"
    },
    {
     "data": {
      "image/png": "[encoded data removed]",
      "text/plain": [
       "<Figure size 432x288 with 1 Axes>"
      ]
     },
     "metadata": {
      "needs_background": "light"
     },
     "output_type": "display_data"
    }
   ],
   "source": [
    "plt.hist(dist)"
   ]
  },
  {
   "cell_type": "markdown",
   "metadata": {},
   "source": [
    "# Bootstrap with Numpy"
   ]
  },
  {
   "cell_type": "code",
   "execution_count": 19,
   "metadata": {},
   "outputs": [],
   "source": [
    "num_iterations = 10000\n",
    "bootstrapped_means_ctrl = []\n",
    "bootstrapped_means_test = []\n",
    "for i in range(num_iterations):\n",
    "    data_bootstrap_ctrl = np.random.choice(ctrl, size=ctrl.shape[0], replace=True)\n",
    "    data_bootstrap_test = np.random.choice(test, size=test.shape[0], replace=True)\n",
    "    ctrl_mean = np.mean(data_bootstrap_ctrl)\n",
    "    test_mean = np.mean(data_bootstrap_test)\n",
    "    bootstrapped_means_ctrl.append(ctrl_mean)\n",
    "    bootstrapped_means_test.append(test_mean)\n",
    "bootstrapped_means_ctrl = np.array(bootstrapped_means_ctrl)\n",
    "bootstrapped_means_test = np.array(bootstrapped_means_test)\n",
    "bootstrapped_means_diff = bootstrapped_means_test - bootstrapped_means_ctrl"
   ]
  },
  {
   "cell_type": "markdown",
   "metadata": {},
   "source": [
    "two tailed stat sig test, null hypothesis of no difference"
   ]
  },
  {
   "cell_type": "code",
   "execution_count": 20,
   "metadata": {},
   "outputs": [
    {
     "name": "stdout",
     "output_type": "stream",
     "text": [
      "0.0582380952380952\t(0.020665476190476248, 0.09695357142857136)\n",
      "p-value: 0.002\n"
     ]
    }
   ],
   "source": [
    "alpha=0.05\n",
    "low = np.percentile(bootstrapped_means_diff, 100 * (alpha / 2.))\n",
    "val = np.percentile(bootstrapped_means_diff, 50)\n",
    "high = np.percentile(bootstrapped_means_diff, 100 * (1 - alpha / 2.))\n",
    "x_bar = np.mean(test) - np.mean(ctrl)\n",
    "print('{}\\t({}, {})'.format(val,low,high))\n",
    "print('p-value: {}'.format(min(2*np.sum(bootstrapped_means_diff < 0)/bootstrapped_means_diff.shape[0],\n",
    "                               2*np.sum(bootstrapped_means_diff > 0)/bootstrapped_means_diff.shape[0])))"
   ]
  },
  {
   "cell_type": "markdown",
   "metadata": {},
   "source": [
    "# Bootsrap with PySpark"
   ]
  },
  {
   "cell_type": "markdown",
   "metadata": {},
   "source": [
    "each data frame includes all users and metrics from a given experiment and variant\n",
    "\n",
    "this assumes a dense dataset where most users have non-zero values for the metric (e.g. clicks)\n",
    "\n",
    "in the case of a sparse metric (e.g. shipment) see the trick below to speed up sampling"
   ]
  },
  {
   "cell_type": "code",
   "execution_count": 21,
   "metadata": {},
   "outputs": [],
   "source": [
    "sdf_ctrl = sqlCtx.createDataFrame(pd.DataFrame({'metric_1': ctrl, 'metric_2': 2*ctrl}))\n",
    "sdf_test = sqlCtx.createDataFrame(pd.DataFrame({'metric_1': test, 'metric_2': 2*test}))"
   ]
  },
  {
   "cell_type": "code",
   "execution_count": 22,
   "metadata": {
    "scrolled": true
   },
   "outputs": [],
   "source": [
    "bootstrapped_means_diff = []\n",
    "# TODO: this for loop could be parallelized\n",
    "for i in range(num_iterations):\n",
    "    bootstrap_ctrl = sdf_ctrl.sample(withReplacement=True, fraction=1.0)\n",
    "    bootstrap_test = sdf_test.sample(withReplacement=True, fraction=1.0)\n",
    "    ctrl_mean = np.array(bootstrap_ctrl.select(*[functions.mean(col) for col in bootstrap_ctrl.columns]).collect())\n",
    "    test_mean = np.array(bootstrap_test.select(*[functions.mean(col) for col in bootstrap_test.columns]).collect())\n",
    "    means_diff = test_mean - ctrl_mean\n",
    "    bootstrapped_means_diff.append(means_diff)\n",
    "bootstrapped_means_diff = np.array(bootstrapped_means_diff)"
   ]
  },
  {
   "cell_type": "markdown",
   "metadata": {},
   "source": [
    "two tailed stat sig test, null hypothesis of no difference for metric 1"
   ]
  },
  {
   "cell_type": "code",
   "execution_count": 23,
   "metadata": {},
   "outputs": [
    {
     "name": "stdout",
     "output_type": "stream",
     "text": [
      "0.07984429670493864\t(0.054560269415041406, 0.10512832399483589)\n",
      "p-value: 0.0\n"
     ]
    }
   ],
   "source": [
    "low = np.percentile(bootstrapped_means_diff[0], 100 * (alpha / 2.))\n",
    "val = np.percentile(bootstrapped_means_diff[0], 50)\n",
    "high = np.percentile(bootstrapped_means_diff[0], 100 * (1 - alpha / 2.))\n",
    "print('{}\\t({}, {})'.format(val,low,high))\n",
    "print('p-value: {}'.format(min(2*np.sum(bootstrapped_means_diff[0] < 0)/bootstrapped_means_diff.shape[0],\n",
    "                               2*np.sum(bootstrapped_means_diff[0] > 0)/bootstrapped_means_diff.shape[0])))"
   ]
  },
  {
   "cell_type": "markdown",
   "metadata": {},
   "source": [
    "# Notes / References"
   ]
  },
  {
   "cell_type": "markdown",
   "metadata": {},
   "source": [
    "**note on case of sparse data from facebook implementation --**\n",
    "\n",
    "in the sparse case we dont actually need to bootstrap\n",
    "the full sparse array since most values are 0\n",
    "instead for each bootstrap iteration we:\n",
    "   1. generate B number of non-zero entries to sample from the binomial distribution with n = all users buckets and p = proportion of users with non-zero entries\n",
    "   2. resample with replacement the non-zero entries from values B times\n",
    "   3. create a new sparse array with the B resamples, zero otherwise"
   ]
  },
  {
   "cell_type": "markdown",
   "metadata": {},
   "source": [
    "**references**\n",
    "* http://faculty.psy.ohio-state.edu/myung/personal/course/826/bootstrap_hypo.pdf\n",
    "* https://ocw.mit.edu/courses/mathematics/18-05-introduction-to-probability-and-statistics-spring-2014/readings/MIT18_05S14_Reading24.pdf\n",
    "* https://github.com/facebookincubator/bootstrapped/blob/master/bootstrapped/bootstrap.py\n",
    "* https://fullstackml.com/how-to-check-hypotheses-with-bootstrap-and-apache-spark-cd750775286a"
   ]
  }
 ],
 "metadata": {
  "kernelspec": {
   "display_name": "Python 3",
   "language": "python",
   "name": "python3"
  },
  "language_info": {
   "codemirror_mode": {
    "name": "ipython",
    "version": 3
   },
   "file_extension": ".py",
   "mimetype": "text/x-python",
   "name": "python",
   "nbconvert_exporter": "python",
   "pygments_lexer": "ipython3",
   "version": "3.6.5"
  }
 },
 "nbformat": 4,
 "nbformat_minor": 2
}
