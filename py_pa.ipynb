{
 "cells": [
  {
   "cell_type": "code",
   "execution_count": 1,
   "metadata": {},
   "outputs": [],
   "source": [
    "import numpy as np\n",
    "import pandas as pd\n",
    "import scipy.stats as stats\n",
    "import matplotlib.pyplot as plt"
   ]
  },
  {
   "cell_type": "code",
   "execution_count": 49,
   "metadata": {},
   "outputs": [],
   "source": [
    "df = pd.read_csv(\"/Users/leon.zhao/Desktop/py/product_ds_exercise_2018_h2_dataset.csv\")"
   ]
  },
  {
   "cell_type": "code",
   "execution_count": 74,
   "metadata": {},
   "outputs": [
    {
     "name": "stdout",
     "output_type": "stream",
     "text": [
      "<class 'pandas.core.frame.DataFrame'>\n",
      "RangeIndex: 12357 entries, 0 to 12356\n",
      "Data columns (total 16 columns):\n",
      "id                                     12357 non-null object\n",
      "city_name                              12357 non-null object\n",
      "signup_os                              6953 non-null object\n",
      "signup_channel                         11143 non-null object\n",
      "signup_timestamp                       11194 non-null datetime64[ns]\n",
      "bgc_date                               7803 non-null datetime64[ns]\n",
      "vehicle_added_date                     11121 non-null datetime64[ns]\n",
      "vehicle_make                           11727 non-null object\n",
      "vehicle_model                          12357 non-null object\n",
      "vehicle_year                           12357 non-null int64\n",
      "first_completed_trip_timestamp         6790 non-null datetime64[ns]\n",
      "signup_timestamp_date                  11194 non-null datetime64[ns]\n",
      "bgc_date_date                          7803 non-null datetime64[ns]\n",
      "vehicle_added_date_date                11121 non-null datetime64[ns]\n",
      "first_completed_trip_timestamp_date    6790 non-null datetime64[ns]\n",
      "timediff_signup_to_first_trip          6149 non-null timedelta64[ns]\n",
      "dtypes: datetime64[ns](8), int64(1), object(6), timedelta64[ns](1)\n",
      "memory usage: 1.5+ MB\n"
     ]
    }
   ],
   "source": [
    "df.info()"
   ]
  },
  {
   "cell_type": "code",
   "execution_count": 73,
   "metadata": {},
   "outputs": [
    {
     "data": {
      "text/html": [
       "<div>\n",
       "<style scoped>\n",
       "    .dataframe tbody tr th:only-of-type {\n",
       "        vertical-align: middle;\n",
       "    }\n",
       "\n",
       "    .dataframe tbody tr th {\n",
       "        vertical-align: top;\n",
       "    }\n",
       "\n",
       "    .dataframe thead th {\n",
       "        text-align: right;\n",
       "    }\n",
       "</style>\n",
       "<table border=\"1\" class=\"dataframe\">\n",
       "  <thead>\n",
       "    <tr style=\"text-align: right;\">\n",
       "      <th></th>\n",
       "      <th>id</th>\n",
       "      <th>city_name</th>\n",
       "      <th>signup_os</th>\n",
       "      <th>signup_channel</th>\n",
       "      <th>signup_timestamp</th>\n",
       "      <th>bgc_date</th>\n",
       "      <th>vehicle_added_date</th>\n",
       "      <th>vehicle_make</th>\n",
       "      <th>vehicle_model</th>\n",
       "      <th>vehicle_year</th>\n",
       "      <th>first_completed_trip_timestamp</th>\n",
       "      <th>signup_timestamp_date</th>\n",
       "      <th>bgc_date_date</th>\n",
       "      <th>vehicle_added_date_date</th>\n",
       "      <th>first_completed_trip_timestamp_date</th>\n",
       "      <th>timediff_signup_to_first_trip</th>\n",
       "    </tr>\n",
       "  </thead>\n",
       "  <tbody>\n",
       "    <tr>\n",
       "      <th>0</th>\n",
       "      <td>082befb0-c1de-4c14-8700-94a7943a7545</td>\n",
       "      <td>Strark</td>\n",
       "      <td>NaN</td>\n",
       "      <td>R2D</td>\n",
       "      <td>2017-07-06 20:42:17</td>\n",
       "      <td>NaT</td>\n",
       "      <td>2017-07-06 20:42:56</td>\n",
       "      <td>Volkswagen</td>\n",
       "      <td>CC</td>\n",
       "      <td>2012</td>\n",
       "      <td>NaT</td>\n",
       "      <td>2017-07-06</td>\n",
       "      <td>NaT</td>\n",
       "      <td>2017-07-06</td>\n",
       "      <td>NaT</td>\n",
       "      <td>NaT</td>\n",
       "    </tr>\n",
       "    <tr>\n",
       "      <th>1</th>\n",
       "      <td>1ae6156f-63fc-40cf-9734-0995978c4b6e</td>\n",
       "      <td>Berton</td>\n",
       "      <td>ios web</td>\n",
       "      <td>Dost</td>\n",
       "      <td>2017-07-03 17:41:07</td>\n",
       "      <td>2017-07-03 17:42:06</td>\n",
       "      <td>2017-07-03 17:41:14</td>\n",
       "      <td>Toyota</td>\n",
       "      <td>4Runner</td>\n",
       "      <td>2003</td>\n",
       "      <td>2017-07-23 00:26:50</td>\n",
       "      <td>2017-07-03</td>\n",
       "      <td>2017-07-03</td>\n",
       "      <td>2017-07-03</td>\n",
       "      <td>2017-07-23</td>\n",
       "      <td>20 days</td>\n",
       "    </tr>\n",
       "    <tr>\n",
       "      <th>2</th>\n",
       "      <td>2a4a4eef-14ef-4ceb-82eb-66f1f7d0d219</td>\n",
       "      <td>Berton</td>\n",
       "      <td>NaN</td>\n",
       "      <td>R2D</td>\n",
       "      <td>2017-07-10 22:55:29</td>\n",
       "      <td>NaT</td>\n",
       "      <td>2017-07-11 17:44:44</td>\n",
       "      <td>Hyundai</td>\n",
       "      <td>Elantra</td>\n",
       "      <td>2015</td>\n",
       "      <td>NaT</td>\n",
       "      <td>2017-07-10</td>\n",
       "      <td>NaT</td>\n",
       "      <td>2017-07-11</td>\n",
       "      <td>NaT</td>\n",
       "      <td>NaT</td>\n",
       "    </tr>\n",
       "    <tr>\n",
       "      <th>3</th>\n",
       "      <td>56fe7597-3ad8-4798-8be8-5fbc4e2d3151</td>\n",
       "      <td>Berton</td>\n",
       "      <td>ios web</td>\n",
       "      <td>Referral</td>\n",
       "      <td>2017-07-27 18:27:21</td>\n",
       "      <td>2017-07-27 18:31:43</td>\n",
       "      <td>2017-07-27 18:31:09</td>\n",
       "      <td>Honda</td>\n",
       "      <td>Civic</td>\n",
       "      <td>2017</td>\n",
       "      <td>2017-07-31 04:07:24</td>\n",
       "      <td>2017-07-27</td>\n",
       "      <td>2017-07-27</td>\n",
       "      <td>2017-07-27</td>\n",
       "      <td>2017-07-31</td>\n",
       "      <td>4 days</td>\n",
       "    </tr>\n",
       "    <tr>\n",
       "      <th>4</th>\n",
       "      <td>67370341-68a5-415f-acf2-be58832a8f9c</td>\n",
       "      <td>Wrouver</td>\n",
       "      <td>other</td>\n",
       "      <td>Referral</td>\n",
       "      <td>2017-07-17 22:20:35</td>\n",
       "      <td>2017-07-17 22:21:09</td>\n",
       "      <td>2017-07-17 22:20:53</td>\n",
       "      <td>Honda</td>\n",
       "      <td>Accord</td>\n",
       "      <td>1999</td>\n",
       "      <td>NaT</td>\n",
       "      <td>2017-07-17</td>\n",
       "      <td>2017-07-17</td>\n",
       "      <td>2017-07-17</td>\n",
       "      <td>NaT</td>\n",
       "      <td>NaT</td>\n",
       "    </tr>\n",
       "  </tbody>\n",
       "</table>\n",
       "</div>"
      ],
      "text/plain": [
       "                                     id city_name signup_os signup_channel  \\\n",
       "0  082befb0-c1de-4c14-8700-94a7943a7545    Strark       NaN            R2D   \n",
       "1  1ae6156f-63fc-40cf-9734-0995978c4b6e    Berton   ios web           Dost   \n",
       "2  2a4a4eef-14ef-4ceb-82eb-66f1f7d0d219    Berton       NaN            R2D   \n",
       "3  56fe7597-3ad8-4798-8be8-5fbc4e2d3151    Berton   ios web       Referral   \n",
       "4  67370341-68a5-415f-acf2-be58832a8f9c   Wrouver     other       Referral   \n",
       "\n",
       "     signup_timestamp            bgc_date  vehicle_added_date vehicle_make  \\\n",
       "0 2017-07-06 20:42:17                 NaT 2017-07-06 20:42:56   Volkswagen   \n",
       "1 2017-07-03 17:41:07 2017-07-03 17:42:06 2017-07-03 17:41:14       Toyota   \n",
       "2 2017-07-10 22:55:29                 NaT 2017-07-11 17:44:44      Hyundai   \n",
       "3 2017-07-27 18:27:21 2017-07-27 18:31:43 2017-07-27 18:31:09        Honda   \n",
       "4 2017-07-17 22:20:35 2017-07-17 22:21:09 2017-07-17 22:20:53        Honda   \n",
       "\n",
       "  vehicle_model  vehicle_year first_completed_trip_timestamp  \\\n",
       "0            CC          2012                            NaT   \n",
       "1       4Runner          2003            2017-07-23 00:26:50   \n",
       "2       Elantra          2015                            NaT   \n",
       "3         Civic          2017            2017-07-31 04:07:24   \n",
       "4        Accord          1999                            NaT   \n",
       "\n",
       "  signup_timestamp_date bgc_date_date vehicle_added_date_date  \\\n",
       "0            2017-07-06           NaT              2017-07-06   \n",
       "1            2017-07-03    2017-07-03              2017-07-03   \n",
       "2            2017-07-10           NaT              2017-07-11   \n",
       "3            2017-07-27    2017-07-27              2017-07-27   \n",
       "4            2017-07-17    2017-07-17              2017-07-17   \n",
       "\n",
       "  first_completed_trip_timestamp_date timediff_signup_to_first_trip  \n",
       "0                                 NaT                           NaT  \n",
       "1                          2017-07-23                       20 days  \n",
       "2                                 NaT                           NaT  \n",
       "3                          2017-07-31                        4 days  \n",
       "4                                 NaT                           NaT  "
      ]
     },
     "execution_count": 73,
     "metadata": {},
     "output_type": "execute_result"
    }
   ],
   "source": [
    "df.head()"
   ]
  },
  {
   "cell_type": "code",
   "execution_count": 54,
   "metadata": {},
   "outputs": [],
   "source": [
    "for i in ['signup_timestamp', 'bgc_date', 'vehicle_added_date', 'first_completed_trip_timestamp']:\n",
    "    df[i] = pd.to_datetime(df[i])\n",
    "    df[i+'_date'] = pd.to_datetime(df[i].dt.date)"
   ]
  },
  {
   "cell_type": "code",
   "execution_count": 106,
   "metadata": {},
   "outputs": [],
   "source": [
    "df['timediff_signup_to_first_trip'] = df['first_completed_trip_timestamp_date']-df['signup_timestamp_date']"
   ]
  },
  {
   "cell_type": "code",
   "execution_count": 107,
   "metadata": {},
   "outputs": [
    {
     "data": {
      "text/plain": [
       "count                      6149\n",
       "mean     9 days 18:47:21.827939\n",
       "std      7 days 16:46:58.162555\n",
       "min             0 days 00:00:00\n",
       "25%             4 days 00:00:00\n",
       "50%             7 days 00:00:00\n",
       "75%            14 days 00:00:00\n",
       "max            30 days 00:00:00\n",
       "Name: timediff_signup_to_first_trip, dtype: object"
      ]
     },
     "execution_count": 107,
     "metadata": {},
     "output_type": "execute_result"
    }
   ],
   "source": [
    "df['timediff_signup_to_first_trip'].describe()"
   ]
  },
  {
   "cell_type": "code",
   "execution_count": 108,
   "metadata": {},
   "outputs": [],
   "source": [
    "df2 = []\n",
    "df2 = pd.DataFrame(df2)\n",
    "df2['timediff_signup_to_first_trip_nona'] = df['timediff_signup_to_first_trip'].dropna()"
   ]
  },
  {
   "cell_type": "code",
   "execution_count": 132,
   "metadata": {},
   "outputs": [
    {
     "data": {
      "text/plain": [
       "array(['Strark', 'Berton', 'Wrouver'], dtype=object)"
      ]
     },
     "execution_count": 132,
     "metadata": {},
     "output_type": "execute_result"
    }
   ],
   "source": [
    "df['city_name'].unique()"
   ]
  },
  {
   "cell_type": "code",
   "execution_count": 122,
   "metadata": {},
   "outputs": [
    {
     "ename": "TypeError",
     "evalue": "Cannot compare type 'Timedelta' with type 'NaTType'",
     "output_type": "error",
     "traceback": [
      "\u001b[0;31m---------------------------------------------------------------------------\u001b[0m",
      "\u001b[0;31mTypeError\u001b[0m                                 Traceback (most recent call last)",
      "\u001b[0;32m<ipython-input-122-ec7a160d46f6>\u001b[0m in \u001b[0;36m<module>\u001b[0;34m()\u001b[0m\n\u001b[0;32m----> 1\u001b[0;31m \u001b[0mplt\u001b[0m\u001b[0;34m.\u001b[0m\u001b[0mhist\u001b[0m\u001b[0;34m(\u001b[0m\u001b[0mdf\u001b[0m\u001b[0;34m[\u001b[0m\u001b[0;34m'timediff_signup_to_first_trip'\u001b[0m\u001b[0;34m]\u001b[0m\u001b[0;34m,\u001b[0m \u001b[0mbins\u001b[0m\u001b[0;34m=\u001b[0m\u001b[0mnp\u001b[0m\u001b[0;34m.\u001b[0m\u001b[0marange\u001b[0m\u001b[0;34m(\u001b[0m\u001b[0mmin\u001b[0m\u001b[0;34m(\u001b[0m\u001b[0mdf\u001b[0m\u001b[0;34m[\u001b[0m\u001b[0;34m'timediff_signup_to_first_trip'\u001b[0m\u001b[0;34m]\u001b[0m\u001b[0;34m)\u001b[0m\u001b[0;34m+\u001b[0m\u001b[0;36m1\u001b[0m\u001b[0;34m,\u001b[0m \u001b[0mmax\u001b[0m\u001b[0;34m(\u001b[0m\u001b[0mdf\u001b[0m\u001b[0;34m[\u001b[0m\u001b[0;34m'timediff_signup_to_first_trip'\u001b[0m\u001b[0;34m]\u001b[0m\u001b[0;34m)\u001b[0m \u001b[0;34m+\u001b[0m \u001b[0;36m1\u001b[0m\u001b[0;34m,\u001b[0m \u001b[0;36m1\u001b[0m\u001b[0;34m)\u001b[0m\u001b[0;34m,\u001b[0m \u001b[0mdensity\u001b[0m \u001b[0;34m=\u001b[0m \u001b[0;32mTrue\u001b[0m\u001b[0;34m)\u001b[0m\u001b[0;34m\u001b[0m\u001b[0m\n\u001b[0m\u001b[1;32m      2\u001b[0m \u001b[0;34m\u001b[0m\u001b[0m\n\u001b[1;32m      3\u001b[0m \u001b[0;34m\u001b[0m\u001b[0m\n\u001b[1;32m      4\u001b[0m \u001b[0;34m\u001b[0m\u001b[0m\n",
      "\u001b[0;32mpandas/_libs/tslibs/timedeltas.pyx\u001b[0m in \u001b[0;36mpandas._libs.tslibs.timedeltas._Timedelta.__richcmp__\u001b[0;34m()\u001b[0m\n",
      "\u001b[0;31mTypeError\u001b[0m: Cannot compare type 'Timedelta' with type 'NaTType'"
     ]
    }
   ],
   "source": [
    "\n",
    "\n",
    "\n",
    "\n"
   ]
  },
  {
   "cell_type": "code",
   "execution_count": null,
   "metadata": {},
   "outputs": [],
   "source": []
  }
 ],
 "metadata": {
  "kernelspec": {
   "display_name": "Python 3",
   "language": "python",
   "name": "python3"
  },
  "language_info": {
   "codemirror_mode": {
    "name": "ipython",
    "version": 3
   },
   "file_extension": ".py",
   "mimetype": "text/x-python",
   "name": "python",
   "nbconvert_exporter": "python",
   "pygments_lexer": "ipython3",
   "version": "3.6.5"
  }
 },
 "nbformat": 4,
 "nbformat_minor": 2
}
