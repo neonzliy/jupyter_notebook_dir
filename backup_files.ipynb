{
 "cells": [
  {
   "cell_type": "code",
   "execution_count": null,
   "metadata": {},
   "outputs": [],
   "source": [
    "import os\n",
    "import time\n",
    "\n",
    "# 1. The files and directories to be backed up are specified in a list.\n",
    "source = ['/home/swaroop/byte', '/home/swaroop/bin']\n",
    "# If you are using Windows, use source = [r'C:\\Documents', r'D:\\Work'] or something like that\n",
    "\n",
    "# 2. The backup must be stored in a main backup directory\n",
    "target_dir = '/mnt/e/backup/' # Remember to change this to what you will be using\n",
    "\n",
    "# 3. The files are backed up into a zip file.\n",
    "# 4. The current day is the name of the subdirectory in the main directory\n",
    "today = target_dir + time.strftime('%Y%m%d')\n",
    "# The current time is the name of the zip archive\n",
    "now = time.strftime('%H%M%S')\n",
    "\n",
    "# Take a comment from the user to create the name of the zip file\n",
    "comment = raw_input('Enter a comment --> ')"
   ]
  },
  {
   "cell_type": "code",
   "execution_count": null,
   "metadata": {},
   "outputs": [],
   "source": [
    "if len(comment) == 0: # check if a comment was entered\n",
    "    target = today + os.sep + now + '.zip'\n",
    "else:\n",
    "    target = today + os.sep + now + '_' + \\\n",
    "        comment.replace(' ', '_') + '.zip'\n",
    "    # Notice the backslash!\n",
    "\n",
    "# Create the subdirectory if it isn't already there\n",
    "if not os.path.exists(today):\n",
    "    os.mkdir(today) # make directory\n",
    "    print 'Successfully created directory', today\n",
    "\n",
    "# 5. We use the zip command (in Unix/Linux) to put the files in a zip archive\n",
    "zip_command = \"zip -qr '%s' %s\" % (target, ' '.join(source))\n",
    "\n",
    "# Run the backup\n",
    "if os.system(zip_command) == 0:\n",
    "    print 'Successful backup to', target\n",
    "else:\n",
    "    print 'Backup FAILED'"
   ]
  }
 ],
 "metadata": {
  "kernelspec": {
   "display_name": "Python 3",
   "language": "python",
   "name": "python3"
  },
  "language_info": {
   "codemirror_mode": {
    "name": "ipython",
    "version": 3
   },
   "file_extension": ".py",
   "mimetype": "text/x-python",
   "name": "python",
   "nbconvert_exporter": "python",
   "pygments_lexer": "ipython3",
   "version": "3.6.5"
  }
 },
 "nbformat": 4,
 "nbformat_minor": 2
}
