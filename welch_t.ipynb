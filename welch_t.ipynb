{
 "cells": [
  {
   "cell_type": "code",
   "execution_count": 1,
   "metadata": {},
   "outputs": [
    {
     "data": {
      "text/html": [
       "<div>\n",
       "<style scoped>\n",
       "    .dataframe tbody tr th:only-of-type {\n",
       "        vertical-align: middle;\n",
       "    }\n",
       "\n",
       "    .dataframe tbody tr th {\n",
       "        vertical-align: top;\n",
       "    }\n",
       "\n",
       "    .dataframe thead th {\n",
       "        text-align: right;\n",
       "    }\n",
       "</style>\n",
       "<table border=\"1\" class=\"dataframe\">\n",
       "  <thead>\n",
       "    <tr style=\"text-align: right;\">\n",
       "      <th></th>\n",
       "      <th>count</th>\n",
       "      <th>mean</th>\n",
       "      <th>std</th>\n",
       "      <th>min</th>\n",
       "      <th>25%</th>\n",
       "      <th>50%</th>\n",
       "      <th>75%</th>\n",
       "      <th>max</th>\n",
       "    </tr>\n",
       "    <tr>\n",
       "      <th>species</th>\n",
       "      <th></th>\n",
       "      <th></th>\n",
       "      <th></th>\n",
       "      <th></th>\n",
       "      <th></th>\n",
       "      <th></th>\n",
       "      <th></th>\n",
       "      <th></th>\n",
       "    </tr>\n",
       "  </thead>\n",
       "  <tbody>\n",
       "    <tr>\n",
       "      <th>Iris-setosa</th>\n",
       "      <td>50.0</td>\n",
       "      <td>1.464</td>\n",
       "      <td>0.173511</td>\n",
       "      <td>1.0</td>\n",
       "      <td>1.4</td>\n",
       "      <td>1.50</td>\n",
       "      <td>1.575</td>\n",
       "      <td>1.9</td>\n",
       "    </tr>\n",
       "    <tr>\n",
       "      <th>Iris-versicolor</th>\n",
       "      <td>50.0</td>\n",
       "      <td>4.260</td>\n",
       "      <td>0.469911</td>\n",
       "      <td>3.0</td>\n",
       "      <td>4.0</td>\n",
       "      <td>4.35</td>\n",
       "      <td>4.600</td>\n",
       "      <td>5.1</td>\n",
       "    </tr>\n",
       "    <tr>\n",
       "      <th>Iris-virginica</th>\n",
       "      <td>50.0</td>\n",
       "      <td>5.552</td>\n",
       "      <td>0.551895</td>\n",
       "      <td>4.5</td>\n",
       "      <td>5.1</td>\n",
       "      <td>5.55</td>\n",
       "      <td>5.875</td>\n",
       "      <td>6.9</td>\n",
       "    </tr>\n",
       "  </tbody>\n",
       "</table>\n",
       "</div>"
      ],
      "text/plain": [
       "                 count   mean       std  min  25%   50%    75%  max\n",
       "species                                                            \n",
       "Iris-setosa       50.0  1.464  0.173511  1.0  1.4  1.50  1.575  1.9\n",
       "Iris-versicolor   50.0  4.260  0.469911  3.0  4.0  4.35  4.600  5.1\n",
       "Iris-virginica    50.0  5.552  0.551895  4.5  5.1  5.55  5.875  6.9"
      ]
     },
     "execution_count": 1,
     "metadata": {},
     "output_type": "execute_result"
    }
   ],
   "source": [
    "import pandas as pd\n",
    "from scipy import stats\n",
    "\n",
    "df = pd.read_csv(\"/Users/leon.zhao/Desktop/py/Iris_Data.csv\" ,index_col=0)\n",
    "df.groupby(\"species\")['petal_length'].describe()"
   ]
  },
  {
   "cell_type": "code",
   "execution_count": 11,
   "metadata": {},
   "outputs": [],
   "source": [
    "setosa = df[(df['species'] == 'Iris-setosa')]\n",
    "virginica = df[(df['species'] == 'Iris-virginica')]"
   ]
  },
  {
   "cell_type": "code",
   "execution_count": 45,
   "metadata": {},
   "outputs": [],
   "source": [
    "def welch_t(lst_c, lst_t, n_c, n_t):\n",
    "#     if stats.shapiro(lst_c)[1] > 0.05 and stats.shapiro(lst_c)[1] > 0.05:\n",
    "        mean_c = lst_c.mean()\n",
    "        mean_t = lst_t.mean()\n",
    "        var_c = lst_c.var()\n",
    "        var_t = lst_t.var()\n",
    "        lst_ct = lst_c + lst_t\n",
    "        var_ct = lst_ct.var()\n",
    "        t = (mean_c - mean_t) / ((var_c/n_c + var_t/n_t) ** (1/2))\n",
    "\n",
    "        #Degrees of freedom\n",
    "        df = n_c + n_t - 2\n",
    "\n",
    "        #p-value after comparison with the t \n",
    "        p = round(stats.t.cdf(t,df=df), 6)\n",
    "        return print(\"t-statisctic: \" + str(round(t, 6)) + \", two_tail p-value: \" + str(p) +\", degrees_of_freedom: \" + str(df))\n",
    "#     else:\n",
    "#         print(\"At least one of of the variables of interest violates the assumption of normality, outlier is taken out for the following results.\")\n",
    "#         mean_c = stats.trim_mean(lst_c, 0.01)\n",
    "#         mean_t = stats.trim_mean(lst_t, 0.01)\n",
    "#         var_c = lst_c.var()\n",
    "#         var_t = lst_t.var()\n",
    "#         lst_ct = lst_c + lst_t\n",
    "#         var_ct = lst_ct.var()\n",
    "#         t = (mean_c - mean_t) / (((((n_c - 1) * var_c + (n_t - 1) * var_t) / (n_c + n_t - 2)) ** (1/2)) * (1 / n_c + 1 / n_t) ** (1/2))\n",
    "#         ## Compare with the critical t-value\n",
    "#         #Degrees of freedom\n",
    "#         df = n_c + n_t - 2\n",
    "\n",
    "#         #p-value after comparison with the t \n",
    "#         p = round(stats.t.cdf(t,df=df), 6)\n",
    "#         return print(\"t-statisctic: \" + str(round(t, 6)) + \", two_tail p-value: \" + str(p) +\", degrees_of_freedom: \" + str(df))\n",
    "    "
   ]
  },
  {
   "cell_type": "code",
   "execution_count": 46,
   "metadata": {},
   "outputs": [
    {
     "name": "stdout",
     "output_type": "stream",
     "text": [
      "t-statisctic: -49.965703, two_tail p-value: 0.0, degrees_of_freedom: 98\n"
     ]
    }
   ],
   "source": [
    "welch_t(setosa['petal_length'], virginica['petal_length'], len(virginica['petal_length']), len(virginica['petal_length']))"
   ]
  },
  {
   "cell_type": "code",
   "execution_count": 47,
   "metadata": {},
   "outputs": [
    {
     "data": {
      "text/plain": [
       "Ttest_indResult(statistic=-49.965703359355636, pvalue=9.713867061697096e-50)"
      ]
     },
     "execution_count": 47,
     "metadata": {},
     "output_type": "execute_result"
    }
   ],
   "source": [
    "## Validating with the build in function\n",
    "stats.ttest_ind(setosa['petal_length'], virginica['petal_length'], equal_var = False)"
   ]
  },
  {
   "cell_type": "code",
   "execution_count": null,
   "metadata": {},
   "outputs": [],
   "source": []
  }
 ],
 "metadata": {
  "kernelspec": {
   "display_name": "Python 3",
   "language": "python",
   "name": "python3"
  },
  "language_info": {
   "codemirror_mode": {
    "name": "ipython",
    "version": 3
   },
   "file_extension": ".py",
   "mimetype": "text/x-python",
   "name": "python",
   "nbconvert_exporter": "python",
   "pygments_lexer": "ipython3",
   "version": "3.6.5"
  }
 },
 "nbformat": 4,
 "nbformat_minor": 2
}
