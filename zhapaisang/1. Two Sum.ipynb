{
 "cells": [
  {
   "cell_type": "code",
   "execution_count": 215,
   "metadata": {},
   "outputs": [],
   "source": [
    "class Solution:\n",
    "    \"\"\"\n",
    "        :type nums: List[int]\n",
    "        :type target: int\n",
    "        :rtype: List[int]\n",
    "    \"\"\"\n",
    "    def twoSum(self, nums, target):\n",
    "        dic = {}\n",
    "        for key, value in enumerate(nums):\n",
    "            if value in dic:\n",
    "                return key, dic[value]\n",
    "            else:\n",
    "                dic[target - value] = key\n",
    "                "
   ]
  },
  {
   "cell_type": "code",
   "execution_count": 357,
   "metadata": {},
   "outputs": [],
   "source": [
    "class Solution:\n",
    "    def twoSum(self, nums, target):\n",
    "        df_total = {}\n",
    "        lst = []\n",
    "        for i in nums:\n",
    "            df_total[i] = target - i\n",
    "            if df_total[i] + i == target and df_total[i] in nums:\n",
    "                lst.append([df_total[i], i])\n",
    "        return lst\n",
    "#         for i in df1:\n",
    "#             print(i)\n",
    "        \n",
    "    \n",
    "#         for i in df_total:\n",
    "#             if i in nums:\n",
    "#                 lst_sum = i\n",
    "#             return a[lst_sum]\n",
    "            \n",
    "                \n",
    "                    \n",
    "                "
   ]
  },
  {
   "cell_type": "code",
   "execution_count": 358,
   "metadata": {},
   "outputs": [],
   "source": [
    "def execute():\n",
    "    nums = [2, 4, 9, 7, 11, 15]\n",
    "    target = 13\n",
    "    sol = Solution()\n",
    "    print(sol.twoSum(nums, target))"
   ]
  },
  {
   "cell_type": "code",
   "execution_count": 359,
   "metadata": {},
   "outputs": [
    {
     "name": "stdout",
     "output_type": "stream",
     "text": [
      "[[11, 2], [9, 4], [4, 9], [2, 11]]\n"
     ]
    }
   ],
   "source": [
    "if __name__ == \"__main__\":\n",
    "    execute()"
   ]
  },
  {
   "cell_type": "code",
   "execution_count": 163,
   "metadata": {},
   "outputs": [
    {
     "name": "stdout",
     "output_type": "stream",
     "text": [
      "[(0, 2), (1, 7), (2, 11), (3, 15)]\n"
     ]
    }
   ],
   "source": [
    "dic = [2, 7, 11, 15]\n",
    "test = enumerate(dic)\n",
    "print (list(enumerate(dic)))"
   ]
  },
  {
   "cell_type": "code",
   "execution_count": 4,
   "metadata": {},
   "outputs": [],
   "source": [
    "class Solution2(object):\n",
    "    def twoSum(self, nums, target):\n",
    "        if len(nums) <= 1:\n",
    "            return False\n",
    "        dic2 = {}\n",
    "        for i in range (len(nums)):\n",
    "            if nums[i] in dic2:\n",
    "                return [dic2[nums[i]], i]\n",
    "            else:\n",
    "                dic2[target - nums[i]] = i"
   ]
  },
  {
   "cell_type": "code",
   "execution_count": 5,
   "metadata": {},
   "outputs": [],
   "source": [
    "def execute2():\n",
    "    nums = [2, 11, 7, 15]\n",
    "    target = 9\n",
    "    sol2 = Solution2()\n",
    "    print(sol2.twoSum(nums, target))"
   ]
  },
  {
   "cell_type": "code",
   "execution_count": 7,
   "metadata": {},
   "outputs": [
    {
     "name": "stdout",
     "output_type": "stream",
     "text": [
      "[0, 2]\n"
     ]
    }
   ],
   "source": [
    "if __name__ == \"__main__\":\n",
    "    execute2()"
   ]
  },
  {
   "cell_type": "code",
   "execution_count": 49,
   "metadata": {},
   "outputs": [],
   "source": [
    "import time\n",
    "import datetime\n",
    "\n",
    "t = time.time()"
   ]
  },
  {
   "cell_type": "code",
   "execution_count": 51,
   "metadata": {},
   "outputs": [
    {
     "data": {
      "text/plain": [
       "time.struct_time(tm_year=2018, tm_mon=11, tm_mday=18, tm_hour=8, tm_min=20, tm_sec=27, tm_wday=6, tm_yday=322, tm_isdst=0)"
      ]
     },
     "execution_count": 51,
     "metadata": {},
     "output_type": "execute_result"
    }
   ],
   "source": [
    "time.gmtime(t)"
   ]
  },
  {
   "cell_type": "code",
   "execution_count": 47,
   "metadata": {},
   "outputs": [
    {
     "name": "stdout",
     "output_type": "stream",
     "text": [
      "1542528998972\n"
     ]
    }
   ],
   "source": [
    "nowTime = lambda:int(round(t * 1000))\n",
    "print (nowTime());  "
   ]
  },
  {
   "cell_type": "code",
   "execution_count": 50,
   "metadata": {},
   "outputs": [
    {
     "name": "stdout",
     "output_type": "stream",
     "text": [
      "2018-11-18 00:20:41\n"
     ]
    }
   ],
   "source": [
    "print (datetime.datetime.now().strftime('%Y-%m-%d %H:%M:%S')) "
   ]
  },
  {
   "cell_type": "code",
   "execution_count": null,
   "metadata": {},
   "outputs": [],
   "source": []
  },
  {
   "cell_type": "code",
   "execution_count": null,
   "metadata": {},
   "outputs": [],
   "source": [
    "class Solution(object):\n",
    "    def twoSum(self, nums, target):\n",
    "        size = 0\n",
    "        d = {}\n",
    "        while size < len(nums):\n",
    "            #先把数组存到字典里面\n",
    "            if not nums[size] in d:#key不在字典里，进行赋值\n",
    "                d[nums[size]] = size\n",
    "            if target - nums[size] in d:# nums[size] 和 target - nums[size]都在字典里，即存在和为他人个体/的两个数\n",
    "                # 这里key 有可能指向同一个数（即 target - nums[size] =  nums[size]时，他其实只有一个数）\n",
    "                if d[target - nums[size]] < d[nums[size]]:\n",
    "                    # d的值从小到大输出\n",
    "                    result = [d[target - nums[size]], d[nums[size]]]\n",
    "                    return result\n",
    "# 注意size = size + 1是和最外层的if平级的\n",
    "            size = size + 1\n"
   ]
  }
 ],
 "metadata": {
  "kernelspec": {
   "display_name": "Python 3",
   "language": "python",
   "name": "python3"
  },
  "language_info": {
   "codemirror_mode": {
    "name": "ipython",
    "version": 3
   },
   "file_extension": ".py",
   "mimetype": "text/x-python",
   "name": "python",
   "nbconvert_exporter": "python",
   "pygments_lexer": "ipython3",
   "version": "3.6.5"
  }
 },
 "nbformat": 4,
 "nbformat_minor": 2
}
